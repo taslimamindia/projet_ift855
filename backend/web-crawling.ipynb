{
 "cells": [
  {
   "cell_type": "code",
   "execution_count": 1,
   "id": "cc5c0a7f",
   "metadata": {},
   "outputs": [],
   "source": [
    "from IPython.display import display, Markdown\n",
    "\n",
    "def print_markdown(response):\n",
    "    display(Markdown(response))"
   ]
  },
  {
   "cell_type": "code",
   "execution_count": 2,
   "id": "a6f954a7",
   "metadata": {},
   "outputs": [],
   "source": [
    "from outils.filesmanager import FileManager\n",
    "from outils.dataset import Data\n",
    "from outils.webcrawling import Crawling"
   ]
  },
  {
   "cell_type": "markdown",
   "id": "0244427d",
   "metadata": {},
   "source": [
    "# Scrawling for any url."
   ]
  },
  {
   "cell_type": "code",
   "execution_count": 3,
   "id": "5e237bbc",
   "metadata": {},
   "outputs": [],
   "source": [
    "crawling = Crawling()\n",
    "d = Data()\n",
    "file = FileManager(d)"
   ]
  },
  {
   "cell_type": "code",
   "execution_count": 4,
   "id": "87c53bb7",
   "metadata": {},
   "outputs": [],
   "source": [
    "params = {\n",
    "    \"q\": \"inscription maîtrise en informatique\",\n",
    "    \"gsc.tab\": \"0\",\n",
    "    \"gsc.q\": \"inscription maîtrise en informatique\",\n",
    "    \"gsc.page\": \"1\"\n",
    "}\n",
    "crawling.crawl_with_control(\"https://usherbrooke.ca/chercher/\", params=params, max_depth=1)"
   ]
  },
  {
   "cell_type": "code",
   "execution_count": 9,
   "id": "b059b165",
   "metadata": {},
   "outputs": [],
   "source": [
    "file.save_texts_to_json(crawling.texts, filename=\"./datasets/crawled_data_udes.json\")"
   ]
  },
  {
   "cell_type": "markdown",
   "id": "91701ece",
   "metadata": {},
   "source": [
    "# Scrawling for gov.gn"
   ]
  },
  {
   "cell_type": "code",
   "execution_count": 3,
   "id": "ca031b34",
   "metadata": {},
   "outputs": [],
   "source": [
    "data = [(\"https://gouvernement.gov.gn/\", \"gov.gn\", 4)]\n",
    "for i in range(1, 50):\n",
    "    data.append((\"https://gouvernement.gov.gn/toutes-les-actualites/page/{}/\".format(i), \"gov.gn\", 2))"
   ]
  },
  {
   "cell_type": "code",
   "execution_count": 4,
   "id": "1c965770",
   "metadata": {},
   "outputs": [],
   "source": [
    "crawling = Crawling()\n",
    "d = Data()\n",
    "file = FileManager(d)"
   ]
  },
  {
   "cell_type": "code",
   "execution_count": 5,
   "id": "a62122c5",
   "metadata": {},
   "outputs": [
    {
     "name": "stderr",
     "output_type": "stream",
     "text": [
      "100%|██████████| 50/50 [12:56<00:00, 15.53s/it]  \n"
     ]
    }
   ],
   "source": [
    "crawling.crawl(data)"
   ]
  },
  {
   "cell_type": "code",
   "execution_count": 6,
   "id": "f27cbfa6",
   "metadata": {},
   "outputs": [],
   "source": [
    "file.save_texts_to_json(crawling.texts, filename=\"./datasets/crawled_data.json\")"
   ]
  }
 ],
 "metadata": {
  "kernelspec": {
   "display_name": ".venv",
   "language": "python",
   "name": "python3"
  },
  "language_info": {
   "codemirror_mode": {
    "name": "ipython",
    "version": 3
   },
   "file_extension": ".py",
   "mimetype": "text/x-python",
   "name": "python",
   "nbconvert_exporter": "python",
   "pygments_lexer": "ipython3",
   "version": "3.13.3"
  }
 },
 "nbformat": 4,
 "nbformat_minor": 5
}
