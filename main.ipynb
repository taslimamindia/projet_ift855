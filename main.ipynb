{
 "cells": [
  {
   "cell_type": "code",
   "execution_count": 1,
   "id": "8f4efaa0",
   "metadata": {},
   "outputs": [],
   "source": [
    "from IPython.display import display, Markdown\n",
    "\n",
    "def print_markdown(response):\n",
    "    display(Markdown(response))"
   ]
  },
  {
   "cell_type": "markdown",
   "id": "9fca1cf8",
   "metadata": {},
   "source": [
    "# Representation des vecteurs embeddings."
   ]
  },
  {
   "cell_type": "code",
   "execution_count": 2,
   "id": "f532c688",
   "metadata": {},
   "outputs": [
    {
     "name": "stderr",
     "output_type": "stream",
     "text": [
      "[nltk_data] Downloading package punkt_tab to\n",
      "[nltk_data]     C:\\Users\\tasli\\AppData\\Roaming\\nltk_data...\n",
      "[nltk_data]   Package punkt_tab is already up-to-date!\n"
     ]
    }
   ],
   "source": [
    "from outils.filesmanager import load_texts_from_json, save_texts_to_json\n",
    "from models.embeddings import create_chunks_and_index"
   ]
  },
  {
   "cell_type": "code",
   "execution_count": 3,
   "id": "af9a9e15",
   "metadata": {},
   "outputs": [],
   "source": [
    "documents = load_texts_from_json(\"./datasets/crawled_data_sentences.json\")"
   ]
  },
  {
   "cell_type": "code",
   "execution_count": 4,
   "id": "2b5adb86",
   "metadata": {},
   "outputs": [],
   "source": [
    "chunks, sources, indexed_to_url, documents_indexed = create_chunks_and_index(documents)"
   ]
  },
  {
   "cell_type": "code",
   "execution_count": 5,
   "id": "84cb15f6",
   "metadata": {},
   "outputs": [],
   "source": [
    "from outils.filesmanager import load_embeddings #, save_embeddings\n",
    "\n",
    "embeddings, model = load_embeddings(\"./datasets/\")\n",
    "# or\n",
    "# from models.embeddings import context_embeddings\n",
    "# model, embeddings = context_embeddings(documents_indexed)\n",
    "# save_embeddings(embeddings, model, \"./datasets/\")"
   ]
  },
  {
   "cell_type": "markdown",
   "id": "6e500018",
   "metadata": {},
   "source": [
    "# Vectorisation avec Faiss"
   ]
  },
  {
   "cell_type": "code",
   "execution_count": 6,
   "id": "dbc7e7bb",
   "metadata": {},
   "outputs": [],
   "source": [
    "from models.faissmanager import create_faiss_index, search_similar_context\n",
    "index = create_faiss_index(embeddings)"
   ]
  },
  {
   "cell_type": "markdown",
   "id": "2db971dd",
   "metadata": {},
   "source": [
    "# LLM"
   ]
  },
  {
   "cell_type": "code",
   "execution_count": 7,
   "id": "671ad9a5",
   "metadata": {},
   "outputs": [],
   "source": [
    "from models.LLM import connexion_to_llm, generate_answer\n",
    "llm = connexion_to_llm()"
   ]
  },
  {
   "cell_type": "code",
   "execution_count": 8,
   "id": "5bacddaf",
   "metadata": {},
   "outputs": [],
   "source": [
    "# from IPython.display import clear_output\n",
    "\n",
    "# while True:\n",
    "#     query = input(\"Posez votre question (ou tapez 'exit' pour quitter) : \")\n",
    "#     if query.lower() == 'exit':\n",
    "#         break\n",
    "\n",
    "#     context = input(\"Voulez-vous la réponse avec context ? (O/N):\").strip().upper()\n",
    "#     if context == 'O':\n",
    "#         context = search_similar_context(query, model, index, documents_indexed, sources, k=3)\n",
    "#     else:\n",
    "#         context = None\n",
    "\n",
    "#     answer = generate_answer(llm, query, context)\n",
    "\n",
    "#     clear_output(wait=True)\n",
    "#     print_markdown(\"Réponse : \" + answer)\n",
    "#     if context:\n",
    "#         print_markdown(\"Sources : \" + context)"
   ]
  },
  {
   "cell_type": "code",
   "execution_count": 9,
   "id": "747c7712",
   "metadata": {},
   "outputs": [
    {
     "data": {
      "text/html": [
       "<style type=\"text/css\">\n",
       "#T_5599c_row0_col0, #T_5599c_row0_col1, #T_5599c_row1_col0, #T_5599c_row1_col1, #T_5599c_row2_col0, #T_5599c_row2_col1, #T_5599c_row3_col0, #T_5599c_row3_col1, #T_5599c_row4_col0, #T_5599c_row4_col1, #T_5599c_row5_col0, #T_5599c_row5_col1, #T_5599c_row6_col0, #T_5599c_row6_col1, #T_5599c_row7_col0, #T_5599c_row7_col1, #T_5599c_row8_col0, #T_5599c_row8_col1, #T_5599c_row9_col0, #T_5599c_row9_col1, #T_5599c_row10_col0, #T_5599c_row10_col1 {\n",
       "  text-align: left;\n",
       "}\n",
       "</style>\n",
       "<table id=\"T_5599c\">\n",
       "  <thead>\n",
       "    <tr>\n",
       "      <th class=\"blank level0\" >&nbsp;</th>\n",
       "      <th id=\"T_5599c_level0_col0\" class=\"col_heading level0 col0\" >question</th>\n",
       "      <th id=\"T_5599c_level0_col1\" class=\"col_heading level0 col1\" >reference</th>\n",
       "    </tr>\n",
       "  </thead>\n",
       "  <tbody>\n",
       "    <tr>\n",
       "      <th id=\"T_5599c_level0_row0\" class=\"row_heading level0 row0\" >0</th>\n",
       "      <td id=\"T_5599c_row0_col0\" class=\"data row0 col0\" >C'est quoi la plateforme TELEMO en Guinée ?</td>\n",
       "      <td id=\"T_5599c_row0_col1\" class=\"data row0 col1\" >https://gouvernement.gov.gn/digitalisation-des-marches-publics-le-premier-ministre-preside-la-5%e1%b5%89-session-du-comite-de-pilotage-de-telemo/</td>\n",
       "    </tr>\n",
       "    <tr>\n",
       "      <th id=\"T_5599c_level0_row1\" class=\"row_heading level0 row1\" >1</th>\n",
       "      <td id=\"T_5599c_row1_col0\" class=\"data row1 col0\" >Quel ministre a remplacé Mamoudou Nagnalen Barry au ministère de l’Agriculture et de l’Élevage en mars 2024 ?</td>\n",
       "      <td id=\"T_5599c_row1_col1\" class=\"data row1 col1\" >https://gouvernement.gov.gn/passation-de-service-au-ministere-de-lagriculture-et-de-lelevage/</td>\n",
       "    </tr>\n",
       "    <tr>\n",
       "      <th id=\"T_5599c_level0_row2\" class=\"row_heading level0 row2\" >2</th>\n",
       "      <td id=\"T_5599c_row2_col0\" class=\"data row2 col0\" >Quelle ville a accueilli le premier ministre Amadou Oury Bah le 19 février 2025 lors de sa visite de terrain ?</td>\n",
       "      <td id=\"T_5599c_row2_col1\" class=\"data row2 col1\" >https://gouvernement.gov.gn/2025/02/19/</td>\n",
       "    </tr>\n",
       "    <tr>\n",
       "      <th id=\"T_5599c_level0_row3\" class=\"row_heading level0 row3\" >3</th>\n",
       "      <td id=\"T_5599c_row3_col0\" class=\"data row3 col0\" >Quel programme prévoit la construction de 50 structures sanitaires dans les huit régions administratives de Guinée ?</td>\n",
       "      <td id=\"T_5599c_row3_col1\" class=\"data row3 col1\" >https://gouvernement.gov.gn/mshp-simandou-2040-ceremonie-de-signature-des-contrats-de-construction-de-50-structures-sanitaires-dans-les-huit-regions-administratives/</td>\n",
       "    </tr>\n",
       "    <tr>\n",
       "      <th id=\"T_5599c_level0_row4\" class=\"row_heading level0 row4\" >4</th>\n",
       "      <td id=\"T_5599c_row4_col0\" class=\"data row4 col0\" >Où le Premier ministre Bernard Goumou a-t-il lancé les épreuves du Certificat d’Études Élémentaires en 2023 ?</td>\n",
       "      <td id=\"T_5599c_row4_col1\" class=\"data row4 col1\" >https://gouvernement.gov.gn/2023/06/05/</td>\n",
       "    </tr>\n",
       "    <tr>\n",
       "      <th id=\"T_5599c_level0_row5\" class=\"row_heading level0 row5\" >5</th>\n",
       "      <td id=\"T_5599c_row5_col0\" class=\"data row5 col0\" >Quelle personnalité rwandaise a visité la Guinée en avril 2023 et a été accueillie par le ministre Ousmane Gaoual Diallo ?</td>\n",
       "      <td id=\"T_5599c_row5_col1\" class=\"data row5 col1\" >https://gouvernement.gov.gn/le-ministre-ousmane-gaoual-diallo-fait-le-tour-de-lactualite/</td>\n",
       "    </tr>\n",
       "    <tr>\n",
       "      <th id=\"T_5599c_level0_row6\" class=\"row_heading level0 row6\" >6</th>\n",
       "      <td id=\"T_5599c_row6_col0\" class=\"data row6 col0\" >Quelle rencontre officielle a eu lieu le 11 avril 2023 entre le Premier ministre et des promoteurs du secteur immobilier en Guinée ?</td>\n",
       "      <td id=\"T_5599c_row6_col1\" class=\"data row6 col1\" >https://gouvernement.gov.gn/logements-sociaux-le-premier-ministre-recoit-des-promoteurs-du-secteur/</td>\n",
       "    </tr>\n",
       "    <tr>\n",
       "      <th id=\"T_5599c_level0_row7\" class=\"row_heading level0 row7\" >7</th>\n",
       "      <td id=\"T_5599c_row7_col0\" class=\"data row7 col0\" >Quelle délégation a été reçue par le Premier ministre Bernard Goumou le 6 avril 2023 dans le cadre du retour à l’ordre constitutionnel ?</td>\n",
       "      <td id=\"T_5599c_row7_col1\" class=\"data row7 col1\" >https://gouvernement.gov.gn/primature-le-premier-ministre-dr-bernard-goumou-a-recu-m-desire-nyaruhirira-haut-cadre-de-loif/</td>\n",
       "    </tr>\n",
       "    <tr>\n",
       "      <th id=\"T_5599c_level0_row8\" class=\"row_heading level0 row8\" >8</th>\n",
       "      <td id=\"T_5599c_row8_col0\" class=\"data row8 col0\" >Quelles institutions sont mentionnées dans la Charte de la Transition en Guinée et restent en vigueur pendant cette période ?</td>\n",
       "      <td id=\"T_5599c_row8_col1\" class=\"data row8 col1\" >https://gouvernement.gov.gn/les-institutions/</td>\n",
       "    </tr>\n",
       "    <tr>\n",
       "      <th id=\"T_5599c_level0_row9\" class=\"row_heading level0 row9\" >9</th>\n",
       "      <td id=\"T_5599c_row9_col0\" class=\"data row9 col0\" >Quel événement scientifique s’est tenu en juillet 2023 sous l’égide du ministère de l’Enseignement supérieur en Guinée?</td>\n",
       "      <td id=\"T_5599c_row9_col1\" class=\"data row9 col1\" >https://gouvernement.gov.gn/senari-2023-cloture-de-la-premiere-edition-de-la-semaine-nationale-de-la-recherche-et-de-linnovation/</td>\n",
       "    </tr>\n",
       "    <tr>\n",
       "      <th id=\"T_5599c_level0_row10\" class=\"row_heading level0 row10\" >10</th>\n",
       "      <td id=\"T_5599c_row10_col0\" class=\"data row10 col0\" >Quels défis majeurs ont été soulevés par les sages et notables de Mandiana lors de l’immersion gouvernementale en février 2025 ?</td>\n",
       "      <td id=\"T_5599c_row10_col1\" class=\"data row10 col1\" >https://gouvernement.gov.gn/limmersion-gouvernementale-au-coeur-de-mandiana/</td>\n",
       "    </tr>\n",
       "  </tbody>\n",
       "</table>\n"
      ],
      "text/plain": [
       "<pandas.io.formats.style.Styler at 0x20a8952f230>"
      ]
     },
     "execution_count": 9,
     "metadata": {},
     "output_type": "execute_result"
    }
   ],
   "source": [
    "import pandas as pd\n",
    "df = pd.read_csv(\"./datasets/questions_references.csv\", sep=\";\")\n",
    "df.style.set_properties(**{'text-align': 'left'})"
   ]
  },
  {
   "cell_type": "code",
   "execution_count": 10,
   "id": "1c4b518e",
   "metadata": {},
   "outputs": [
    {
     "data": {
      "text/plain": [
       "586"
      ]
     },
     "execution_count": 10,
     "metadata": {},
     "output_type": "execute_result"
    }
   ],
   "source": [
    "documents_references = load_texts_from_json(\"./datasets/crawled_data.json\")\n",
    "len(documents_references)"
   ]
  },
  {
   "cell_type": "code",
   "execution_count": 11,
   "id": "04f19436",
   "metadata": {},
   "outputs": [],
   "source": [
    "from outils.evaluation import evaluation_answer"
   ]
  },
  {
   "cell_type": "code",
   "execution_count": 12,
   "id": "77efbf46",
   "metadata": {},
   "outputs": [],
   "source": [
    "results_prompt = []\n",
    "results_reference = []"
   ]
  },
  {
   "cell_type": "code",
   "execution_count": 19,
   "id": "1ce38c9b",
   "metadata": {},
   "outputs": [],
   "source": [
    "def color_red(text):\n",
    "    return f'<span style=\"color:red\"><strong>{text}</strong></span>'"
   ]
  },
  {
   "cell_type": "code",
   "execution_count": 20,
   "id": "84182a5d",
   "metadata": {},
   "outputs": [
    {
     "data": {
      "text/markdown": [
       "<span style=\"color:red\"><strong>Question 1: C'est quoi la plateforme TELEMO en Guinée ?</strong></span>"
      ],
      "text/plain": [
       "<IPython.core.display.Markdown object>"
      ]
     },
     "metadata": {},
     "output_type": "display_data"
    },
    {
     "data": {
      "text/markdown": [
       "<span style=\"color:red\"><strong>Réponse sans context : </strong></span>La plateforme TELEMO est un système de gestion électronique des dossiers et des paiements des fonctionnaires et agents de l’État guinéens. Elle permet de gérer les informations des agents de l’État, de suivre leurs carrières, de gérer leurs salaires et avantages, ainsi que de suivre les paiements effectués.\n",
       "\n",
       "Voici quelques-unes des fonctionnalités clés de la plateforme TELEMO en Guinée :\n",
       "\n",
       "1. **Gestion des informations des agents** : La plateforme permet de stocker et de gérer les informations personnelles et professionnelles des agents de l’État, y compris leurs coordonnées, leur statut, leur grade, leur affectation, etc.\n",
       "2. **Suivi des carrières** : TELEMO permet de suivre l'évolution de carrière des agents, y compris leurs promotions, leurs mutations, leurs formations, etc.\n",
       "3. **Gestion des salaires et avantages** : La plateforme permet de gérer les salaires et les avantages des agents, y compris les primes, les allocations, les indemnités, etc.\n",
       "4. **Paiement électronique** : TELEMO permet de payer les salaires et les avantages des agents par voie électronique, ce qui réduit les risques de fraude et améliore la transparence.\n",
       "5. **Suivi des paiements** : La plateforme permet de suivre les paiements effectués, ce qui facilite la gestion des finances publiques et la transparence.\n",
       "\n",
       "La mise en place de la plateforme TELEMO en Guinée vise à améliorer la gestion des ressources humaines dans la fonction publique, à renforcer la transparence et à réduire la corruption. Elle s'inscrit dans le cadre des efforts du gouvernement guinéen pour moderniser l'administration publique et améliorer la gouvernance."
      ],
      "text/plain": [
       "<IPython.core.display.Markdown object>"
      ]
     },
     "metadata": {},
     "output_type": "display_data"
    },
    {
     "data": {
      "text/markdown": [
       "<span style=\"color:red\"><strong>Réponse avec context : </strong></span>TELEMO est une plateforme de gestion des marchés publics en Guinée. Elle permet de gérer les processus de passation des marchés publics de manière électronique, ce qui contribue à rendre la commande publique plus transparente et efficiente.\n",
       "\n",
       "D'après les informations disponibles sur le site du gouvernement guinéen, la plateforme TELEMO est utilisée pour la digitalisation des marchés publics, ce qui constitue une réforme importante pour améliorer la gouvernance et la transparence dans la gestion des fonds publics.\n",
       "\n",
       "Le Premier ministre Amadou Oury BAH a présidé la 5e session du comité de pilotage de TELEMO, ce qui montre l'importance accordée à cette plateforme par le gouvernement guinéen pour moderniser la commande publique et lutter contre la corruption.\n",
       "\n",
       "La plateforme TELEMO permettrait de simplifier les procédures de passation des marchés publics, de réduire les délais et les coûts, et d'améliorer la transparence et la traçabilité des processus. Cela contribue ainsi à une meilleure gestion des ressources publiques et à une plus grande efficacité dans la réalisation des projets de développement en Guinée."
      ],
      "text/plain": [
       "<IPython.core.display.Markdown object>"
      ]
     },
     "metadata": {},
     "output_type": "display_data"
    },
    {
     "name": "stdout",
     "output_type": "stream",
     "text": [
      "ROUGE: {'Rouge1 Unigrammes': np.float64(0.1748), 'Rouge2 Bigrammes': np.float64(0.0206)}\n",
      "Bert score: {'Precision': np.float64(0.5704), 'Recall': np.float64(0.5052), 'F1': np.float64(0.5358)}\n"
     ]
    },
    {
     "data": {
      "text/markdown": [
       "<span style=\"color:red\"><strong>Réponse avec référence : </strong></span>La plateforme TELEMO est une initiative du gouvernement guinéen visant à digitaliser la passation des marchés publics. Elle permet aux acteurs économiques d'accéder en ligne aux plans de passation, de consulter les appels d'offres, de soumissionner et de suivre l'ensemble du processus jusqu'à la signature des contrats. Cette plateforme est destinée à moderniser et à rendre plus transparente la commande publique en Guinée. \n",
       "\n",
       "### Avantages de la plateforme TELEMO :\n",
       "1. **Transparence** : La digitalisation du processus de passation des marchés publics réduit les risques de corruption et favorise la transparence.\n",
       "2. **Efficacité** : Elle permet de réduire les délais de passation des marchés publics en automatisant certaines étapes.\n",
       "3. **Accessibilité** : Les acteurs économiques peuvent accéder aux informations relatives aux marchés publics de manière plus facile et rapide.\n",
       "4. **Inclusion** : La plateforme TELEMO contribue à rendre le processus plus inclusif en permettant à un plus grand nombre d'acteurs de participer aux appels d'offres.\n",
       "\n",
       "### Objectifs du gouvernement guinéen :\n",
       "Le gouvernement guinéen, sous la direction du Président de la République, le Général Mamadi Doumbouya, vise à travers cette réforme à renforcer la gouvernance économique et à améliorer le climat des affaires dans le pays. La mise en place de la plateforme TELEMO s'inscrit dans cette dynamique de modernisation et de transparence de l'administration publique."
      ],
      "text/plain": [
       "<IPython.core.display.Markdown object>"
      ]
     },
     "metadata": {},
     "output_type": "display_data"
    },
    {
     "name": "stdout",
     "output_type": "stream",
     "text": [
      "ROUGE: {'Rouge1 Unigrammes': np.float64(0.3744), 'Rouge2 Bigrammes': np.float64(0.0841)}\n",
      "Bert score: {'Precision': np.float64(0.5821), 'Recall': np.float64(0.5192), 'F1': np.float64(0.5489)}\n"
     ]
    },
    {
     "data": {
      "text/markdown": [
       "<span style=\"color:red\"><strong>Référence : </strong></span>https://gouvernement.gov.gn/digitalisation-des-marches-publics-le-premier-ministre-preside-la-5%e1%b5%89-session-du-comite-de-pilotage-de-telemo/"
      ],
      "text/plain": [
       "<IPython.core.display.Markdown object>"
      ]
     },
     "metadata": {},
     "output_type": "display_data"
    },
    {
     "name": "stdout",
     "output_type": "stream",
     "text": [
      "https://gouvernement.gov.gn/journee-mondiale-des-telecommunications-et-de-la-societe-de-linformation-la-guinee-fait-des-progres/\n",
      "https://gouvernement.gov.gn/mpten-la-guinee-marque-sa-presence-au-mobile-world-congress-2025/\n",
      "https://gouvernement.gov.gn/2025/03/04/\n",
      "https://gouvernement.gov.gn/toutes-les-actualites/page/44/\n",
      "\n",
      "==================================================\n",
      "\n"
     ]
    },
    {
     "data": {
      "text/markdown": [
       "<span style=\"color:red\"><strong>Question 2: Quel ministre a remplacé Mamoudou Nagnalen Barry au ministère de l’Agriculture et de l’Élevage en mars 2024 ?</strong></span>"
      ],
      "text/plain": [
       "<IPython.core.display.Markdown object>"
      ]
     },
     "metadata": {},
     "output_type": "display_data"
    },
    {
     "data": {
      "text/markdown": [
       "<span style=\"color:red\"><strong>Réponse sans context : </strong></span>Djibo Yaya Kaba, ministre de l’Agriculture et de l’Elevage a remplace  Mamoudou Nagnalen Barry en mars 2024."
      ],
      "text/plain": [
       "<IPython.core.display.Markdown object>"
      ]
     },
     "metadata": {},
     "output_type": "display_data"
    },
    {
     "data": {
      "text/markdown": [
       "<span style=\"color:red\"><strong>Réponse avec context : </strong></span>Mahamadou Abdoulaye Diallo a été installé ministre des Infrastructures et des Travaux Publics en mars 2024. Cependant, selon le compte-rendu disponible sur le site du gouvernement, c'est Mamoudou Nagnalen BARRY qui a été remplacé par un autre ministre au poste de Ministre de l’Agriculture et de l’Elevage mais son remplaçant n'est pas mentionné dans les textes fournis. \n",
       "Cependant il est mentionné que  Mory Condé a été installé au ministère de l'Urbanisme, de l'Habitat et de l'Aménagement du Territoire et Mahamadou Abdoulaye Diallo a été installé au ministère des Infrastructures et des Travaux Publics. \n",
       "De même, il est indiqué que le ministre de l’Energie : Namory CAMARA a pris fonction le 1er août 2025.\n",
       "Il est aussi mentionné que le ministre du Tourisme et de l’Hôtellerie : Mahamadou Abdoulaye Diallo a été installé dans ses nouvelles fonctions le 1er août 2025.\n",
       "On peut en déduire que  Mahamadou Abdoulaye Diallo a changé de ministère en mars et en août. Mais on n'a pas d'info sur le ministre qui a remplacé Mamoudou Nagnalen BARRY."
      ],
      "text/plain": [
       "<IPython.core.display.Markdown object>"
      ]
     },
     "metadata": {},
     "output_type": "display_data"
    },
    {
     "name": "stdout",
     "output_type": "stream",
     "text": [
      "ROUGE: {'Rouge1 Unigrammes': np.float64(0.0893), 'Rouge2 Bigrammes': np.float64(0.0071)}\n",
      "Bert score: {'Precision': np.float64(0.5428), 'Recall': np.float64(0.4716), 'F1': np.float64(0.5047)}\n"
     ]
    },
    {
     "data": {
      "text/markdown": [
       "<span style=\"color:red\"><strong>Réponse avec référence : </strong></span>M. Felix LAMAH a remplacé Mamoudou Nagnalen BARRY au ministère de l’Agriculture et de l’Elevage en mars 2024. La passation de service a eu lieu le 16 mars 2024."
      ],
      "text/plain": [
       "<IPython.core.display.Markdown object>"
      ]
     },
     "metadata": {},
     "output_type": "display_data"
    },
    {
     "name": "stdout",
     "output_type": "stream",
     "text": [
      "ROUGE: {'Rouge1 Unigrammes': np.float64(0.129), 'Rouge2 Bigrammes': np.float64(0.0054)}\n",
      "Bert score: {'Precision': np.float64(0.599), 'Recall': np.float64(0.4874), 'F1': np.float64(0.5375)}\n"
     ]
    },
    {
     "data": {
      "text/markdown": [
       "<span style=\"color:red\"><strong>Référence : </strong></span>https://gouvernement.gov.gn/passation-de-service-au-ministere-de-lagriculture-et-de-lelevage/"
      ],
      "text/plain": [
       "<IPython.core.display.Markdown object>"
      ]
     },
     "metadata": {},
     "output_type": "display_data"
    },
    {
     "name": "stdout",
     "output_type": "stream",
     "text": [
      "https://gouvernement.gov.gn/compte-rendu-de-la-session-ordinaire-du-conseil-des-ministres-du-jeudi-27-fevrier-2025/\n",
      "https://gouvernement.gov.gn/immersion-gouvernementale-un-engagement-renforce-pour-leducation-et-legalite-des-chances/\n",
      "https://gouvernement.gov.gn/toutes-les-actualites/page/29/\n",
      "https://gouvernement.gov.gn/ministere-de-la-peche-et-de-leconomie-maritime-fatima-camara-passe-le-temoin-a-fassou-thea/\n",
      "https://gouvernement.gov.gn/le-premier-ministre-a-preside-la-1ere-assemblee-consulaire-de-la-chambre-nationale-de-lagriculture-de-guinee/\n",
      "\n",
      "==================================================\n",
      "\n"
     ]
    },
    {
     "data": {
      "text/markdown": [
       "<span style=\"color:red\"><strong>Question 3: Quelle ville a accueilli le premier ministre Amadou Oury Bah le 19 février 2025 lors de sa visite de terrain ?</strong></span>"
      ],
      "text/plain": [
       "<IPython.core.display.Markdown object>"
      ]
     },
     "metadata": {},
     "output_type": "display_data"
    },
    {
     "data": {
      "text/markdown": [
       "<span style=\"color:red\"><strong>Réponse sans context : </strong></span>Je ne peux pas fournir d'informations sur des événements futurs ou des dates spécifiques qui n'ont pas encore eu lieu, y compris la visite du premier ministre Amadou Oury Bah le 19 février 2025, car cela relève de la spéculation ou de l'information non disponible à la date de ma dernière mise à jour. Pour les informations les plus récentes ou spécifiques à des événements futurs, je recommande de consulter des sources d'actualité ou des communiqués officiels à la date ou après le 19 février 2025."
      ],
      "text/plain": [
       "<IPython.core.display.Markdown object>"
      ]
     },
     "metadata": {},
     "output_type": "display_data"
    },
    {
     "data": {
      "text/markdown": [
       "<span style=\"color:red\"><strong>Réponse avec context : </strong></span>Je ne peux pas fournir d'information à ce sujet, car je n'ai accès qu'aux informations disponibles sur le site du gouvernement de la République de Guinée jusqu'au 2 avril 2024, et je n'ai aucune information sur les événements postérieurs à cette date."
      ],
      "text/plain": [
       "<IPython.core.display.Markdown object>"
      ]
     },
     "metadata": {},
     "output_type": "display_data"
    },
    {
     "name": "stdout",
     "output_type": "stream",
     "text": [
      "ROUGE: {'Rouge1 Unigrammes': np.float64(0.0732), 'Rouge2 Bigrammes': np.float64(0.0136)}\n",
      "Bert score: {'Precision': np.float64(0.5734), 'Recall': np.float64(0.4934), 'F1': np.float64(0.5304)}\n"
     ]
    },
    {
     "data": {
      "text/markdown": [
       "<span style=\"color:red\"><strong>Réponse avec référence : </strong></span>Le premier ministre Amadou Oury Bah a été accueilli dans la ville de Kerouané le 19 février 2025 lors de sa visite de terrain."
      ],
      "text/plain": [
       "<IPython.core.display.Markdown object>"
      ]
     },
     "metadata": {},
     "output_type": "display_data"
    },
    {
     "name": "stdout",
     "output_type": "stream",
     "text": [
      "ROUGE: {'Rouge1 Unigrammes': np.float64(0.1714), 'Rouge2 Bigrammes': np.float64(0.0096)}\n",
      "Bert score: {'Precision': np.float64(0.6085), 'Recall': np.float64(0.4682), 'F1': np.float64(0.5292)}\n"
     ]
    },
    {
     "data": {
      "text/markdown": [
       "<span style=\"color:red\"><strong>Référence : </strong></span>https://gouvernement.gov.gn/2025/02/19/"
      ],
      "text/plain": [
       "<IPython.core.display.Markdown object>"
      ]
     },
     "metadata": {},
     "output_type": "display_data"
    },
    {
     "name": "stdout",
     "output_type": "stream",
     "text": [
      "https://gouvernement.gov.gn/2024/04/02/\n",
      "https://gouvernement.gov.gn/category/discours/\n",
      "https://gouvernement.gov.gn/category/newsletter/\n",
      "https://gouvernement.gov.gn/2024/03/06/\n",
      "https://gouvernement.gov.gn/primature-amadou-oury-bah-un-premier-ministre-en-action-des-les-premiers-instants/\n",
      "\n",
      "==================================================\n",
      "\n"
     ]
    },
    {
     "data": {
      "text/markdown": [
       "<span style=\"color:red\"><strong>Question 4: Quel programme prévoit la construction de 50 structures sanitaires dans les huit régions administratives de Guinée ?</strong></span>"
      ],
      "text/plain": [
       "<IPython.core.display.Markdown object>"
      ]
     },
     "metadata": {},
     "output_type": "display_data"
    },
    {
     "data": {
      "text/markdown": [
       "<span style=\"color:red\"><strong>Réponse sans context : </strong></span>Le programme qui prévoit la construction de 50 structures sanitaires en Guinee est le Programme de Coopération entre la Guinée et l'Agence de Coopération Internationale du Japon (JICA) ou d'autres initiatives internationales , mais plus précisément c'est le programme financé par l'Union Européenne et mise en œuvre par l'Organisation Internationale pour les Migrations (OIM), en collaboration avec le gouvernement guinéen. Cependant, sans plus de détails, il est difficile de donner une réponse précise. Notons que plusieurs programmes et initiatives sont en cours en Guinée pour améliorer l'accès aux soins de santé, notamment dans les zones rurales et périurbaines."
      ],
      "text/plain": [
       "<IPython.core.display.Markdown object>"
      ]
     },
     "metadata": {},
     "output_type": "display_data"
    },
    {
     "data": {
      "text/markdown": [
       "<span style=\"color:red\"><strong>Réponse avec context : </strong></span>Le programme qui prévoit la construction de 50 structures sanitaires dans les huit régions administratives de Guinée est le programme Simandou 2040. Plus précisément, ce programme est lié au cinquième pilier intitulé \"santé et bien-être\", qui vise à améliorer l'accès aux soins de santé de qualité pour tous les Guinéens, conformément à la vision du Président de la République, le Général Mamadi Doumbouya. Ce projet s'inscrit dans une démarche plus large de développement intégré et de refondation de l'État, avec un accent particulier sur la santé et le bien-être des populations."
      ],
      "text/plain": [
       "<IPython.core.display.Markdown object>"
      ]
     },
     "metadata": {},
     "output_type": "display_data"
    },
    {
     "name": "stdout",
     "output_type": "stream",
     "text": [
      "ROUGE: {'Rouge1 Unigrammes': np.float64(0.1715), 'Rouge2 Bigrammes': np.float64(0.0335)}\n",
      "Bert score: {'Precision': np.float64(0.6299), 'Recall': np.float64(0.5442), 'F1': np.float64(0.584)}\n"
     ]
    },
    {
     "data": {
      "text/markdown": [
       "<span style=\"color:red\"><strong>Réponse avec référence : </strong></span>Le programme qui prévoit la construction de 50 structures sanitaires dans les huit régions administratives de Guinée est le programme Simandou 2040. Plus précisément, il s'agit du pilier 5 de ce programme, intitulé \"santé et bien-être\", qui vise à améliorer l'accès aux soins de santé pour tous les Guinéens."
      ],
      "text/plain": [
       "<IPython.core.display.Markdown object>"
      ]
     },
     "metadata": {},
     "output_type": "display_data"
    },
    {
     "name": "stdout",
     "output_type": "stream",
     "text": [
      "ROUGE: {'Rouge1 Unigrammes': np.float64(0.1549), 'Rouge2 Bigrammes': np.float64(0.0236)}\n",
      "Bert score: {'Precision': np.float64(0.6323), 'Recall': np.float64(0.5098), 'F1': np.float64(0.5645)}\n"
     ]
    },
    {
     "data": {
      "text/markdown": [
       "<span style=\"color:red\"><strong>Référence : </strong></span>https://gouvernement.gov.gn/mshp-simandou-2040-ceremonie-de-signature-des-contrats-de-construction-de-50-structures-sanitaires-dans-les-huit-regions-administratives/"
      ],
      "text/plain": [
       "<IPython.core.display.Markdown object>"
      ]
     },
     "metadata": {},
     "output_type": "display_data"
    },
    {
     "name": "stdout",
     "output_type": "stream",
     "text": [
      "https://gouvernement.gov.gn/le-gouvernement-livre-le-premier-lot-de-logements-sociaux/\n",
      "https://gouvernement.gov.gn/mshp-78eme-assemblee-mondiale-de-la-sante-a-geneve-loms-decerne-un-satisfecit-a-la-guinee-pour-lelimination-de-la-maladie-du-sommeil/\n",
      "https://gouvernement.gov.gn/mshp-simandou-2040-ceremonie-de-signature-des-contrats-de-construction-de-50-structures-sanitaires-dans-les-huit-regions-administratives/\n",
      "https://gouvernement.gov.gn/2025/07/11/\n",
      "\n",
      "==================================================\n",
      "\n"
     ]
    },
    {
     "data": {
      "text/markdown": [
       "<span style=\"color:red\"><strong>Question 5: Où le Premier ministre Bernard Goumou a-t-il lancé les épreuves du Certificat d’Études Élémentaires en 2023 ?</strong></span>"
      ],
      "text/plain": [
       "<IPython.core.display.Markdown object>"
      ]
     },
     "metadata": {},
     "output_type": "display_data"
    },
    {
     "data": {
      "text/markdown": [
       "<span style=\"color:red\"><strong>Réponse sans context : </strong></span>Le Premier ministre Bernard Goumou a lancé les épreuves du Certificat d’Études Élémentaires (CEE) session 2023 au Groupe Scolaire de Sonfonia, à Conakry, le 26 juin 2023."
      ],
      "text/plain": [
       "<IPython.core.display.Markdown object>"
      ]
     },
     "metadata": {},
     "output_type": "display_data"
    },
    {
     "data": {
      "text/markdown": [
       "<span style=\"color:red\"><strong>Réponse avec context : </strong></span>Le Premier ministre, Dr Bernard Goumou, a lancé les épreuves de l’examen de fin de cycle du Certificat d’Études Élémentaires (CEE), Session 2023, à l’école primaire de Almamya dans la Commune de Kaloum à Conakry."
      ],
      "text/plain": [
       "<IPython.core.display.Markdown object>"
      ]
     },
     "metadata": {},
     "output_type": "display_data"
    },
    {
     "name": "stdout",
     "output_type": "stream",
     "text": [
      "ROUGE: {'Rouge1 Unigrammes': np.float64(0.097), 'Rouge2 Bigrammes': np.float64(0.0031)}\n",
      "Bert score: {'Precision': np.float64(0.6138), 'Recall': np.float64(0.5015), 'F1': np.float64(0.552)}\n"
     ]
    },
    {
     "data": {
      "text/markdown": [
       "<span style=\"color:red\"><strong>Réponse avec référence : </strong></span>Le Premier ministre Bernard Goumou a lancé les épreuves du Certificat d'Études Élémentaires (CEE) en 2023 à l'école primaire de Almamya dans la commune de Kaloum."
      ],
      "text/plain": [
       "<IPython.core.display.Markdown object>"
      ]
     },
     "metadata": {},
     "output_type": "display_data"
    },
    {
     "name": "stdout",
     "output_type": "stream",
     "text": [
      "ROUGE: {'Rouge1 Unigrammes': np.float64(0.2759), 'Rouge2 Bigrammes': np.float64(0.0116)}\n",
      "Bert score: {'Precision': np.float64(0.6419), 'Recall': np.float64(0.4846), 'F1': np.float64(0.5523)}\n"
     ]
    },
    {
     "data": {
      "text/markdown": [
       "<span style=\"color:red\"><strong>Référence : </strong></span>https://gouvernement.gov.gn/2023/06/05/"
      ],
      "text/plain": [
       "<IPython.core.display.Markdown object>"
      ]
     },
     "metadata": {},
     "output_type": "display_data"
    },
    {
     "name": "stdout",
     "output_type": "stream",
     "text": [
      "https://gouvernement.gov.gn/certificat-detudes-elementaires-le-premier-ministre-lance-les-epreuves-a-lecole-primaire-de-almamya-kaloum/\n",
      "https://gouvernement.gov.gn/2023/06/05/\n",
      "https://gouvernement.gov.gn/category/education/\n",
      "https://gouvernement.gov.gn/toutes-les-actualites/page/42/\n",
      "https://gouvernement.gov.gn/2024/07/12/\n",
      "\n",
      "==================================================\n",
      "\n"
     ]
    },
    {
     "data": {
      "text/markdown": [
       "<span style=\"color:red\"><strong>Question 6: Quelle personnalité rwandaise a visité la Guinée en avril 2023 et a été accueillie par le ministre Ousmane Gaoual Diallo ?</strong></span>"
      ],
      "text/plain": [
       "<IPython.core.display.Markdown object>"
      ]
     },
     "metadata": {},
     "output_type": "display_data"
    },
    {
     "data": {
      "text/markdown": [
       "<span style=\"color:red\"><strong>Réponse sans context : </strong></span>Le Premier ministre de la République rwandaise, Edouard Ngirente, qui s’est rendu en Guinée lundi 24 avril 2023 à la tête d’une délégation, a été accueilli par le ministre d’Etat, Ministre de la Défense Nationale, le Général Aboubacar Sidiki Camara, représentant le Ministre d’Etat au Président de la Transition, chargé des questions de défense et de sécurité. \n",
       "Mais selon une autre source, c'est le ministre guinéen des Affaires Etrangères qui a accueilli le premier ministre rwandais à l'aéroport. \n",
       "Il s’agit d’Ousmane Gaoual Diallo."
      ],
      "text/plain": [
       "<IPython.core.display.Markdown object>"
      ]
     },
     "metadata": {},
     "output_type": "display_data"
    },
    {
     "data": {
      "text/markdown": [
       "<span style=\"color:red\"><strong>Réponse avec context : </strong></span>Le président rwandais, Paul Kagamé, a effectué une visite en Guinée en avril 2023. Il a notamment inauguré un échangeur qui porte son nom à Kagbelen, en compagnie du président guinéen. Cette visite comprenait également des séances de travail et la signature de protocoles d'accord, témoignant de la coopération entre les deux pays."
      ],
      "text/plain": [
       "<IPython.core.display.Markdown object>"
      ]
     },
     "metadata": {},
     "output_type": "display_data"
    },
    {
     "name": "stdout",
     "output_type": "stream",
     "text": [
      "ROUGE: {'Rouge1 Unigrammes': np.float64(0.098), 'Rouge2 Bigrammes': np.float64(0.0109)}\n",
      "Bert score: {'Precision': np.float64(0.5883), 'Recall': np.float64(0.4893), 'F1': np.float64(0.5343)}\n"
     ]
    },
    {
     "data": {
      "text/markdown": [
       "<span style=\"color:red\"><strong>Réponse avec référence : </strong></span>Le Président Paul Kagamé du Rwanda a visité la Guinée en avril 2023. Le ministre Ousmane Gaoual Diallo, qui est le porte-parole du Gouvernement guinéen, a fait des commentaires sur cette visite lors d'une émission sur DjomaTV. Il a exprimé sa joie concernant cette visite et a mentionné que le Rwanda a réalisé un décollage économique inspirant qui pourrait être imité par la Guinée. À l'occasion de cette visite, un échangeur de Kagbélen a même été nommé en l'honneur du Président Paul Kagamé."
      ],
      "text/plain": [
       "<IPython.core.display.Markdown object>"
      ]
     },
     "metadata": {},
     "output_type": "display_data"
    },
    {
     "name": "stdout",
     "output_type": "stream",
     "text": [
      "ROUGE: {'Rouge1 Unigrammes': np.float64(0.2263), 'Rouge2 Bigrammes': np.float64(0.0365)}\n",
      "Bert score: {'Precision': np.float64(0.6144), 'Recall': np.float64(0.5281), 'F1': np.float64(0.568)}\n"
     ]
    },
    {
     "data": {
      "text/markdown": [
       "<span style=\"color:red\"><strong>Référence : </strong></span>https://gouvernement.gov.gn/le-ministre-ousmane-gaoual-diallo-fait-le-tour-de-lactualite/"
      ],
      "text/plain": [
       "<IPython.core.display.Markdown object>"
      ]
     },
     "metadata": {},
     "output_type": "display_data"
    },
    {
     "name": "stdout",
     "output_type": "stream",
     "text": [
      "https://gouvernement.gov.gn/category/communiques/\n",
      "https://gouvernement.gov.gn/la-guinee-se-dote-de-sa-premiere-politique-nationale-de-lemploi-2024-2030/\n",
      "https://gouvernement.gov.gn/2025/page/4/\n",
      "https://gouvernement.gov.gn/%f0%9d%90%91%f0%9d%90%9e%f0%9d%90%a5%f0%9d%90%9a%f0%9d%90%ad%f0%9d%90%a2%f0%9d%90%a8%f0%9d%90%a7%f0%9d%90%ac-%f0%9d%90%86%f0%9d%90%ae%f0%9d%90%a2%f0%9d%90%a7%f0%9d%90%9e%f0%9d%90%9e-%f0%9d%90%91/\n",
      "https://gouvernement.gov.gn/communique-du-gouvernement-relatif-a-lassainissement-du-cadastre-minier-en-republique-de-guinee/\n",
      "\n",
      "==================================================\n",
      "\n"
     ]
    },
    {
     "data": {
      "text/markdown": [
       "<span style=\"color:red\"><strong>Question 7: Quelle rencontre officielle a eu lieu le 11 avril 2023 entre le Premier ministre et des promoteurs du secteur immobilier en Guinée ?</strong></span>"
      ],
      "text/plain": [
       "<IPython.core.display.Markdown object>"
      ]
     },
     "metadata": {},
     "output_type": "display_data"
    },
    {
     "data": {
      "text/markdown": [
       "<span style=\"color:red\"><strong>Réponse sans context : </strong></span>Le 11 avril 2023, le Premier ministre Bernard Goumou a reçu en audience des promoteurs immobiliers. \n",
       "Ils ont discuté des opportunités d'investissement et de la situation du secteur immobilier en Guinée. \n",
       "La réunion a permis de discuter des défis auxquels est confronté le secteur et de trouver des solutions pour les résoudre.\n",
       "Le Premier ministre a exprimé sa volonté de soutenir l'expansion du secteur immobilier en Guinée."
      ],
      "text/plain": [
       "<IPython.core.display.Markdown object>"
      ]
     },
     "metadata": {},
     "output_type": "display_data"
    },
    {
     "data": {
      "text/markdown": [
       "<span style=\"color:red\"><strong>Réponse avec context : </strong></span>Je n'ai pas trouvé d'informations concernant la rencontre entre le Premier ministre et des promoteurs du secteur immobilier en Guinée le 11 avril 2023. Cependant, j'ai trouvé des informations sur d'autres rencontres et événements concernant le gouvernement guinéen.\n",
       "\n",
       "Voici quelques-unes des informations que j'ai trouvées :\n",
       "\n",
       "* Le Gouvernement et les Forces Vives de Guinée se sont retrouvés autour de la table le 21 mars 2023 au Centre Islamique de Donka.\n",
       "* Le Premier ministre, Dr Bernard Goumou, a reçu les acteurs socio-politiques issus du cadre de dialogue inclusif inter-guinéen le 28 avril 2023 au Palais de la Colombe.\n",
       "* Un séminaire sur la Diplomatie Économique a eu lieu le 20 août 2024 à Conakry, sous l'autorité du Premier ministre et Chef du Gouvernement, Amadou Oury Bah.\n",
       "\n",
       "Il est possible que vous puissiez trouver plus d'informations sur le site officiel du gouvernement guinéen ou dans d'autres sources d'actualité."
      ],
      "text/plain": [
       "<IPython.core.display.Markdown object>"
      ]
     },
     "metadata": {},
     "output_type": "display_data"
    },
    {
     "name": "stdout",
     "output_type": "stream",
     "text": [
      "ROUGE: {'Rouge1 Unigrammes': np.float64(0.1816), 'Rouge2 Bigrammes': np.float64(0.022)}\n",
      "Bert score: {'Precision': np.float64(0.5695), 'Recall': np.float64(0.5146), 'F1': np.float64(0.5407)}\n"
     ]
    },
    {
     "data": {
      "text/markdown": [
       "<span style=\"color:red\"><strong>Réponse avec référence : </strong></span>Le 11 avril 2023, le Premier Ministre, Dr Bernard Goumou, a reçu au palais de la Colombe une délégation des promoteurs des logements sociaux conduite par Madame Condé Moya, Directrice Générale de l’Agence Guinéenne de financement des logements (AGUIFIL). Les discussions ont porté sur plusieurs sujets, notamment la construction de logements sociaux avec l'entreprise KEP internationale et leur associé China Machinery Engineering Corporation (CMEC), ainsi que d'autres thèmes tels que l'énergie, le parc industriel et l'eau potable."
      ],
      "text/plain": [
       "<IPython.core.display.Markdown object>"
      ]
     },
     "metadata": {},
     "output_type": "display_data"
    },
    {
     "name": "stdout",
     "output_type": "stream",
     "text": [
      "ROUGE: {'Rouge1 Unigrammes': np.float64(0.2827), 'Rouge2 Bigrammes': np.float64(0.0297)}\n",
      "Bert score: {'Precision': np.float64(0.6443), 'Recall': np.float64(0.5457), 'F1': np.float64(0.5909)}\n"
     ]
    },
    {
     "data": {
      "text/markdown": [
       "<span style=\"color:red\"><strong>Référence : </strong></span>https://gouvernement.gov.gn/logements-sociaux-le-premier-ministre-recoit-des-promoteurs-du-secteur/"
      ],
      "text/plain": [
       "<IPython.core.display.Markdown object>"
      ]
     },
     "metadata": {},
     "output_type": "display_data"
    },
    {
     "name": "stdout",
     "output_type": "stream",
     "text": [
      "https://gouvernement.gov.gn/le-gouvernement-et-les-forces-vives-de-guinee-se-retrouvent-autour-de-la-table/\n",
      "https://gouvernement.gov.gn/primature-le-premier-ministre-dr-bernard-goumou-rencontre-les-acteurs-socio-politiques/\n",
      "https://gouvernement.gov.gn/toutes-les-actualites/page/15/\n",
      "https://gouvernement.gov.gn/seminaire-sur-la-diplomatie-economique-un-tremplin-pour-le-developpement-de-la-guinee/\n",
      "https://gouvernement.gov.gn/visite-officielle-j2-ousmane-diagana-poursuit-ses-consultations/\n",
      "\n",
      "==================================================\n",
      "\n"
     ]
    },
    {
     "data": {
      "text/markdown": [
       "<span style=\"color:red\"><strong>Question 8: Quelle délégation a été reçue par le Premier ministre Bernard Goumou le 6 avril 2023 dans le cadre du retour à l’ordre constitutionnel ?</strong></span>"
      ],
      "text/plain": [
       "<IPython.core.display.Markdown object>"
      ]
     },
     "metadata": {},
     "output_type": "display_data"
    },
    {
     "data": {
      "text/markdown": [
       "<span style=\"color:red\"><strong>Réponse sans context : </strong></span>La délégation reçue par le Premier ministre Bernard Goumou le 6 avril 2023 comprenait des membres du Conseil national de la transition (CNT) et des représentants de la classe politique, notamment des partis politiques et des organisations de la société civile guinéenne. Cette rencontre visait à discuter des efforts en cours pour le retour à l'ordre constitutionnel dans le pays."
      ],
      "text/plain": [
       "<IPython.core.display.Markdown object>"
      ]
     },
     "metadata": {},
     "output_type": "display_data"
    },
    {
     "data": {
      "text/markdown": [
       "<span style=\"color:red\"><strong>Réponse avec context : </strong></span>M. Désiré NYARUHIRIRA, Conseiller Spécial, politique et diplomatique de la Secrétaire Générale de l’Organisation internationale de la Francophonie (OIF) à la tête d’une forte délégation a été reçu par le Premier Ministre, Chef du Gouvernement, Dr Bernard Goumou le 6 avril 2023. Les entretiens entre les deux personnalités ont notamment porté sur le programme d’appui de l’OIF au retour à l’ordre constitutionnel en Guinée."
      ],
      "text/plain": [
       "<IPython.core.display.Markdown object>"
      ]
     },
     "metadata": {},
     "output_type": "display_data"
    },
    {
     "name": "stdout",
     "output_type": "stream",
     "text": [
      "ROUGE: {'Rouge1 Unigrammes': np.float64(0.1913), 'Rouge2 Bigrammes': np.float64(0.0407)}\n",
      "Bert score: {'Precision': np.float64(0.6175), 'Recall': np.float64(0.528), 'F1': np.float64(0.5692)}\n"
     ]
    },
    {
     "data": {
      "text/markdown": [
       "<span style=\"color:red\"><strong>Réponse avec référence : </strong></span>M. Désiré NYARUHIRIRA, Conseiller Spécial, politique et diplomatique de la Secrétaire Générale de l’Organisation internationale de la Francophonie (OIF), à la tête d’une forte délégation, a été reçu par le Premier Ministre, Chef du Gouvernement, Dr Bernard Goumou le 6 avril 2023. Ils ont discuté notamment du programme d’appui de l’OIF au retour à l’ordre constitutionnel en Guinée."
      ],
      "text/plain": [
       "<IPython.core.display.Markdown object>"
      ]
     },
     "metadata": {},
     "output_type": "display_data"
    },
    {
     "name": "stdout",
     "output_type": "stream",
     "text": [
      "ROUGE: {'Rouge1 Unigrammes': np.float64(0.3152), 'Rouge2 Bigrammes': np.float64(0.0656)}\n",
      "Bert score: {'Precision': np.float64(0.6373), 'Recall': np.float64(0.5237), 'F1': np.float64(0.575)}\n"
     ]
    },
    {
     "data": {
      "text/markdown": [
       "<span style=\"color:red\"><strong>Référence : </strong></span>https://gouvernement.gov.gn/primature-le-premier-ministre-dr-bernard-goumou-a-recu-m-desire-nyaruhirira-haut-cadre-de-loif/"
      ],
      "text/plain": [
       "<IPython.core.display.Markdown object>"
      ]
     },
     "metadata": {},
     "output_type": "display_data"
    },
    {
     "name": "stdout",
     "output_type": "stream",
     "text": [
      "https://gouvernement.gov.gn/toutes-les-actualites/page/45/\n",
      "https://gouvernement.gov.gn/toutes-les-actualites/page/38/\n",
      "https://gouvernement.gov.gn/2023/04/30/\n",
      "https://gouvernement.gov.gn/primature-le-premier-ministre-dr-bernard-goumou-a-recu-m-desire-nyaruhirira-haut-cadre-de-loif/\n",
      "https://gouvernement.gov.gn/dialogue-inclusif-interguineen/\n",
      "\n",
      "==================================================\n",
      "\n"
     ]
    },
    {
     "data": {
      "text/markdown": [
       "<span style=\"color:red\"><strong>Question 9: Quelles institutions sont mentionnées dans la Charte de la Transition en Guinée et restent en vigueur pendant cette période ?</strong></span>"
      ],
      "text/plain": [
       "<IPython.core.display.Markdown object>"
      ]
     },
     "metadata": {},
     "output_type": "display_data"
    },
    {
     "data": {
      "text/markdown": [
       "<span style=\"color:red\"><strong>Réponse sans context : </strong></span>Selon la Charte de la transition en Guinée, les institutions qui restent en vigueur pendant cette période sont :\n",
       "\n",
       "1. Le gouvernement de transition,\n",
       "2. Le Conseil national de la transition (CNT) qui sert de parlement pendant la période de transition.\n",
       " \n",
       "Ces institutions ont été mises en place pour gérer la transition politique du pays après le coup d'État de 2021 et pour superviser le processus de retour à l'ordre constitutionnel."
      ],
      "text/plain": [
       "<IPython.core.display.Markdown object>"
      ]
     },
     "metadata": {},
     "output_type": "display_data"
    },
    {
     "data": {
      "text/markdown": [
       "<span style=\"color:red\"><strong>Réponse avec context : </strong></span>Selon la Charte de la Transition en Guinée, les institutions qui restent en vigueur pendant cette période sont : le Conseil National de la Transition (CNT), la Cour Suprême, la Cour des Comptes, la Haute Autorité de la Communication, le Conseil Économique, Social, Environnemental et Culturel, l'Institution Nationale Indépendante des Droits Humains, le Haut Conseil des Collectivités Territoriales et la Cour de Répression des Infractions Économiques et Financières (CRIEF). \n",
       "\n",
       "Le CNT est l'organe législatif de la Transition, chargé d'élaborer et de soumettre pour adoption le projet de constitution, d'élaborer et d'examiner les textes législatifs, de suivre la mise en œuvre de la feuille de route de la Transition et de contribuer à la défense et à la promotion des Droits de l'Homme et des libertés publiques.\n",
       "\n",
       "La Cour Suprême est le juge en premier ressort de la légalité des textes règlementaires et des actes des autorités exécutives. Elle a également les attributions de la Cour constitutionnelle pendant la période de Transition.\n",
       "\n",
       "La Cour des Comptes juge les comptes des Agents comptables publics de l'Etat, des collectivités territoriales et locales, et des établissements publics.\n",
       "\n",
       "La Haute Autorité de la Communication est l'organisme guinéen de régulation de la communication. Elle veille au respect de la pluralité des courants de pensée et d'opinion dans les services publics de communication et au respect des dispositions relatives à la création, à la propriété intellectuelle et à la gestion des entreprises de presse.\n",
       "\n",
       "Le Conseil Économique, Social, Environnemental et Culturel examine les progrès enregistrés en matière économique, sociale, environnementale et culturelle et suggère les adaptations nécessaires.\n",
       "\n",
       "L'Institution Nationale Indépendante des Droits Humains promeut et protège les libertés et droits fondamentaux de la personne humaine.\n",
       "\n",
       "Le Haut Conseil des Collectivités Territoriales est une Assemblée consultative chargée d'étudier et de donner un avis motivé sur les politiques de décentralisation, d'aménagement et de développement du territoire.\n",
       "\n",
       "La CRIEF est chargée d'examiner les infractions de nature économique et financière dont le montant est égal ou supérieur à un milliard de francs guinéens."
      ],
      "text/plain": [
       "<IPython.core.display.Markdown object>"
      ]
     },
     "metadata": {},
     "output_type": "display_data"
    },
    {
     "name": "stdout",
     "output_type": "stream",
     "text": [
      "ROUGE: {'Rouge1 Unigrammes': np.float64(0.2731), 'Rouge2 Bigrammes': np.float64(0.064)}\n",
      "Bert score: {'Precision': np.float64(0.5559), 'Recall': np.float64(0.5223), 'F1': np.float64(0.5386)}\n"
     ]
    },
    {
     "data": {
      "text/markdown": [
       "<span style=\"color:red\"><strong>Réponse avec référence : </strong></span>Selon la Charte de la Transition en Guinée, les institutions qui restent en vigueur pendant cette période sont :\n",
       "\n",
       "1. Le Conseil National de la Transition (CNT) : l'organe législatif de la Transition.\n",
       "2. La Cour Suprême : qui remplace la Cour constitutionnelle et est compétente en matière de contrôle de la légalité des textes réglementaires et des actes des autorités exécutives.\n",
       "3. La Cour des Comptes : une juridiction indépendante qui juge les comptes des agents comptables publics de l'État et des collectivités territoriales.\n",
       "4. La Haute Autorité de la Communication : l'organisme guinéen de régulation de la communication.\n",
       "5. Le Conseil Économique, Social, Environnemental et Culturel : chargé d'examiner les progrès enregistrés en matière économique, sociale, environnementale et culturelle.\n",
       "6. L'Institution Nationale Indépendante des Droits Humains : qui promeut et protège les libertés et droits fondamentaux de la personne humaine.\n",
       "7. Le Haut Conseil des Collectivités Territoriales : une assemblée consultative qui a pour mission d'étudier et de donner un avis motivé sur les politiques de décentralisation, d'aménagement et de développement du territoire.\n",
       "8. La Cour de Répression des Infractions Économiques et Financières (CRIEF) : chargée d'examiner les infractions de nature économique et financière."
      ],
      "text/plain": [
       "<IPython.core.display.Markdown object>"
      ]
     },
     "metadata": {},
     "output_type": "display_data"
    },
    {
     "name": "stdout",
     "output_type": "stream",
     "text": [
      "ROUGE: {'Rouge1 Unigrammes': np.float64(0.4067), 'Rouge2 Bigrammes': np.float64(0.1135)}\n",
      "Bert score: {'Precision': np.float64(0.5735), 'Recall': np.float64(0.5324), 'F1': np.float64(0.5522)}\n"
     ]
    },
    {
     "data": {
      "text/markdown": [
       "<span style=\"color:red\"><strong>Référence : </strong></span>https://gouvernement.gov.gn/les-institutions/"
      ],
      "text/plain": [
       "<IPython.core.display.Markdown object>"
      ]
     },
     "metadata": {},
     "output_type": "display_data"
    },
    {
     "name": "stdout",
     "output_type": "stream",
     "text": [
      "https://gouvernement.gov.gn/\n",
      "https://gouvernement.gov.gn/les-institutions/\n",
      "https://gouvernement.gov.gn/category/flash-infos/\n",
      "https://gouvernement.gov.gn/toutes-les-actualites/page/21/\n",
      "https://gouvernement.gov.gn/de-nouvelles-infrastructures-pour-linstitut-superieur-des-arts-mory-kante-de-dubreka/\n",
      "\n",
      "==================================================\n",
      "\n"
     ]
    },
    {
     "data": {
      "text/markdown": [
       "<span style=\"color:red\"><strong>Question 10: Quel événement scientifique s’est tenu en juillet 2023 sous l’égide du ministère de l’Enseignement supérieur en Guinée?</strong></span>"
      ],
      "text/plain": [
       "<IPython.core.display.Markdown object>"
      ]
     },
     "metadata": {},
     "output_type": "display_data"
    },
    {
     "data": {
      "text/markdown": [
       "<span style=\"color:red\"><strong>Réponse sans context : </strong></span>En juillet 2023, le G7 de l’enseignement supérieur s’est tenu sous l’égide du ministère de l’Enseignement supérieur, de la Recherche scientifique et de l’Innovation en Guinée. Ce forum concernait les sept (7) universités publiques guinéennes. \n",
       "L’université Joseph KI-ZERBO a pris part à ce grand rendez-vous."
      ],
      "text/plain": [
       "<IPython.core.display.Markdown object>"
      ]
     },
     "metadata": {},
     "output_type": "display_data"
    },
    {
     "data": {
      "text/markdown": [
       "<span style=\"color:red\"><strong>Réponse avec context : </strong></span>Je ne suis pas en mesure de fournir des informations spécifiques sur des événements scientifiques qui se sont déroulés en juillet 2023 sous l'égide du ministère de l'Enseignement supérieur en Guinée, car les données d'entraînement ne contiennent pas d'informations détaillées sur des événements spécifiques après une certaine date. Pour obtenir des informations précises et à jour, je recommande de consulter directement le site officiel du gouvernement guinéen ou les actualités relatives au ministère de l'Enseignement supérieur de la République de Guinée."
      ],
      "text/plain": [
       "<IPython.core.display.Markdown object>"
      ]
     },
     "metadata": {},
     "output_type": "display_data"
    },
    {
     "name": "stdout",
     "output_type": "stream",
     "text": [
      "ROUGE: {'Rouge1 Unigrammes': np.float64(0.0822), 'Rouge2 Bigrammes': np.float64(0.0137)}\n",
      "Bert score: {'Precision': np.float64(0.5885), 'Recall': np.float64(0.5126), 'F1': np.float64(0.5479)}\n"
     ]
    },
    {
     "data": {
      "text/markdown": [
       "<span style=\"color:red\"><strong>Réponse avec référence : </strong></span>La première édition de la Semaine Nationale de la Recherche et de l’Innovation (SENARI) s'est tenue en juillet 2023 en Guinée, sous l'égide du Ministère de l'Enseignement Supérieur, de la Recherche Scientifique et de l'Innovation (MESRSI). Cet événement visait à promouvoir la recherche et l'innovation en Guinée. Il a été clôturé le 14 juillet 2023 en présence de plusieurs officiels, dont le Ministre Directeur de Cabinet et le Secrétaire Général du CAMES. Des chercheurs et innovateurs ont été récompensés lors de cette cérémonie de clôture."
      ],
      "text/plain": [
       "<IPython.core.display.Markdown object>"
      ]
     },
     "metadata": {},
     "output_type": "display_data"
    },
    {
     "name": "stdout",
     "output_type": "stream",
     "text": [
      "ROUGE: {'Rouge1 Unigrammes': np.float64(0.2921), 'Rouge2 Bigrammes': np.float64(0.0621)}\n",
      "Bert score: {'Precision': np.float64(0.6071), 'Recall': np.float64(0.5318), 'F1': np.float64(0.567)}\n"
     ]
    },
    {
     "data": {
      "text/markdown": [
       "<span style=\"color:red\"><strong>Référence : </strong></span>https://gouvernement.gov.gn/senari-2023-cloture-de-la-premiere-edition-de-la-semaine-nationale-de-la-recherche-et-de-linnovation/"
      ],
      "text/plain": [
       "<IPython.core.display.Markdown object>"
      ]
     },
     "metadata": {},
     "output_type": "display_data"
    },
    {
     "name": "stdout",
     "output_type": "stream",
     "text": [
      "https://gouvernement.gov.gn/category/actualites/page/3/\n",
      "https://gouvernement.gov.gn/compte-rendu-de-la-session-ordinaire-du-conseil-des-ministres-du-jeudi-23-janvier-2025/\n",
      "https://gouvernement.gov.gn/toutes-les-actualites/page/21/\n",
      "https://gouvernement.gov.gn/toutes-les-actualites/page/47/\n",
      "https://gouvernement.gov.gn/2025/page/3/\n",
      "\n",
      "==================================================\n",
      "\n"
     ]
    },
    {
     "data": {
      "text/markdown": [
       "<span style=\"color:red\"><strong>Question 11: Quels défis majeurs ont été soulevés par les sages et notables de Mandiana lors de l’immersion gouvernementale en février 2025 ?</strong></span>"
      ],
      "text/plain": [
       "<IPython.core.display.Markdown object>"
      ]
     },
     "metadata": {},
     "output_type": "display_data"
    },
    {
     "data": {
      "text/markdown": [
       "<span style=\"color:red\"><strong>Réponse sans context : </strong></span>Je ne dispose d'aucune information sur une quelconque immersion gouvernementale qui se serait déroulée en février 2025 à Mandiana ou ailleurs. Il est possible que cet événement soit fictif ou qu'il se réfère à un contexte ou des informations qui ne sont pas disponibles dans mes données actuelles.\n",
       "\n",
       "Cependant, si nous supposons que cette immersion gouvernementale a eu lieu, les défis majeurs soulevés par les sages et notables de Mandiana pourraient être liés aux problèmes communs rencontrés dans de nombreuses régions, tels que :\n",
       "\n",
       "1. **Développement local et infrastructures** : les populations locales expriment souvent leurs besoins en matière d'infrastructures (routes, écoles, hôpitaux, accès à l'eau potable et à l'électricité) et de développement économique (création d'emplois, soutien aux entreprises locales).\n",
       "\n",
       "2. **Sécurité** : la sécurité est un thème récurrent, les populations pouvant exprimer leurs préoccupations face aux menaces telles que le banditisme, les conflits communautaires, ou les attaques terroristes, selon le contexte local.\n",
       "\n",
       "3. **Agriculture et environnement** : les questions liées à l'agriculture (accès aux intrants, équipements, marchés), à la gestion des ressources naturelles, et aux impacts du changement climatique sont souvent cruciales dans les zones rurales.\n",
       "\n",
       "4. **Éducation et santé** : l'amélioration des services publics de base comme l'éducation et la santé est généralement une priorité, avec des préoccupations concernant l'accès, la qualité des soins et la disponibilité du personnel qualifié.\n",
       "\n",
       "5. **Gouvernance et participation citoyenne** : les populations locales peuvent également exprimer des attentes en matière de gouvernance, notamment en ce qui concerne la transparence, la responsabilité des dirigeants, et leur participation aux processus décisionnels.\n",
       "\n",
       "Ces thèmes sont génériques et peuvent varier en fonction du contexte spécifique de Mandiana. Pour des informations plus précises, il faudrait se référer à des sources directes ou à des comptes rendus détaillés de cette immersion gouvernementale."
      ],
      "text/plain": [
       "<IPython.core.display.Markdown object>"
      ]
     },
     "metadata": {},
     "output_type": "display_data"
    },
    {
     "data": {
      "text/markdown": [
       "<span style=\"color:red\"><strong>Réponse avec context : </strong></span>Les sages et notables de Mandiana ont soulevé trois défis majeurs lors de l'immersion gouvernementale en février 2025. Ces défis sont : l'état des routes, l'accès à l'eau potable et l'électrification. Ces préoccupations ont été exprimées lors de la rencontre avec la délégation gouvernementale conduite par le Premier Ministre Amadou Oury BAH. La délégation a rassuré que ces préoccupations seront prises en compte, en réaffirmant l'engagement du Gouvernement en faveur d'un développement inclusif."
      ],
      "text/plain": [
       "<IPython.core.display.Markdown object>"
      ]
     },
     "metadata": {},
     "output_type": "display_data"
    },
    {
     "name": "stdout",
     "output_type": "stream",
     "text": [
      "ROUGE: {'Rouge1 Unigrammes': np.float64(0.2022), 'Rouge2 Bigrammes': np.float64(0.0312)}\n",
      "Bert score: {'Precision': np.float64(0.6229), 'Recall': np.float64(0.5161), 'F1': np.float64(0.5645)}\n"
     ]
    },
    {
     "data": {
      "text/markdown": [
       "<span style=\"color:red\"><strong>Réponse avec référence : </strong></span>Les défis majeurs soulevés par les sages et notables de Mandiana lors de l’immersion gouvernementale en février 2025 sont les suivants :\n",
       "\n",
       "1. L'état des routes \n",
       "2. L'accès à l'eau potable \n",
       "3. L'électrification.\n",
       "\n",
       "Ces préoccupations ont été exprimées aux membres du gouvernement qui ont assuré qu'elles seront prises en compte."
      ],
      "text/plain": [
       "<IPython.core.display.Markdown object>"
      ]
     },
     "metadata": {},
     "output_type": "display_data"
    },
    {
     "name": "stdout",
     "output_type": "stream",
     "text": [
      "ROUGE: {'Rouge1 Unigrammes': np.float64(0.2284), 'Rouge2 Bigrammes': np.float64(0.0357)}\n",
      "Bert score: {'Precision': np.float64(0.6403), 'Recall': np.float64(0.5219), 'F1': np.float64(0.5751)}\n"
     ]
    },
    {
     "data": {
      "text/markdown": [
       "<span style=\"color:red\"><strong>Référence : </strong></span>https://gouvernement.gov.gn/limmersion-gouvernementale-au-coeur-de-mandiana/"
      ],
      "text/plain": [
       "<IPython.core.display.Markdown object>"
      ]
     },
     "metadata": {},
     "output_type": "display_data"
    },
    {
     "name": "stdout",
     "output_type": "stream",
     "text": [
      "https://gouvernement.gov.gn/debut-des-examens-nationaux-le-premier-ministre-lance-les-epreuves-a-mandiana/\n",
      "https://gouvernement.gov.gn/toutes-les-actualites/page/46/\n",
      "https://gouvernement.gov.gn/limmersion-gouvernementale-au-coeur-de-mandiana/\n",
      "https://gouvernement.gov.gn/toutes-les-actualites/page/23/\n",
      "\n",
      "==================================================\n",
      "\n"
     ]
    }
   ],
   "source": [
    "\n",
    "\n",
    "for i, row in df.iterrows():\n",
    "    query = row['question']\n",
    "    print_markdown(color_red(f\"Question {i+1}: {query}\"))\n",
    "\n",
    "    answer = generate_answer(llm, query)\n",
    "    print_markdown(color_red(\"Réponse sans context : \") + answer)\n",
    "\n",
    "    context, indices = search_similar_context(query, model, index, documents_indexed, sources, k=5)\n",
    "    answer = generate_answer(llm, query, context)\n",
    "    print_markdown(color_red(\"Réponse avec context : \") + answer)\n",
    "    results_prompt.append(evaluation_answer(answer, context))\n",
    "          \n",
    "    context = documents_references[row['reference']]\n",
    "    answer = generate_answer(llm, query, context)\n",
    "    print_markdown(color_red(\"Réponse avec référence : \") + answer)\n",
    "    results_reference.append(evaluation_answer(answer, context))\n",
    "    \n",
    "    print_markdown(color_red(\"Référence : \") + row['reference'])\n",
    "    for indice in indices:\n",
    "        print(indexed_to_url[indice])\n",
    "\n",
    "    print(\"\\n\" + \"=\"*50 + \"\\n\")"
   ]
  },
  {
   "cell_type": "code",
   "execution_count": 41,
   "id": "a14fee9b",
   "metadata": {},
   "outputs": [],
   "source": [
    "import pandas as pd\n",
    "\n",
    "def create_df(results):\n",
    "    rows = []\n",
    "    for i, r in enumerate(results, start=1):\n",
    "        row = {\n",
    "            (\"Rouge\", \"Rouge1 Unigrammes\"): r[\"rouge\"][\"Rouge1 Unigrammes\"],\n",
    "            (\"Rouge\", \"Rouge2 Bigrammes\"): r[\"rouge\"][\"Rouge2 Bigrammes\"],\n",
    "            (\"BERT Score\", \"Precision\"): r[\"bert_score\"][\"Precision\"],\n",
    "            (\"BERT Score\", \"Recall\"): r[\"bert_score\"][\"Recall\"],\n",
    "            (\"BERT Score\", \"F1\"): r[\"bert_score\"][\"F1\"],\n",
    "        }\n",
    "        rows.append(row)\n",
    "\n",
    "    df_scores = pd.DataFrame(rows)\n",
    "    df_scores.index = [f\"Test {i}\" for i in range(1, len(df_scores)+1)]\n",
    "    return df_scores\n",
    "\n",
    "def print_results(df_scores):\n",
    "    return df_scores.style.set_properties(**{'text-align': 'center'})"
   ]
  },
  {
   "cell_type": "code",
   "execution_count": 42,
   "id": "a2ec5568",
   "metadata": {},
   "outputs": [
    {
     "data": {
      "text/html": [
       "<style type=\"text/css\">\n",
       "#T_3b086_row0_col0, #T_3b086_row0_col1, #T_3b086_row0_col2, #T_3b086_row0_col3, #T_3b086_row0_col4, #T_3b086_row1_col0, #T_3b086_row1_col1, #T_3b086_row1_col2, #T_3b086_row1_col3, #T_3b086_row1_col4, #T_3b086_row2_col0, #T_3b086_row2_col1, #T_3b086_row2_col2, #T_3b086_row2_col3, #T_3b086_row2_col4, #T_3b086_row3_col0, #T_3b086_row3_col1, #T_3b086_row3_col2, #T_3b086_row3_col3, #T_3b086_row3_col4, #T_3b086_row4_col0, #T_3b086_row4_col1, #T_3b086_row4_col2, #T_3b086_row4_col3, #T_3b086_row4_col4, #T_3b086_row5_col0, #T_3b086_row5_col1, #T_3b086_row5_col2, #T_3b086_row5_col3, #T_3b086_row5_col4, #T_3b086_row6_col0, #T_3b086_row6_col1, #T_3b086_row6_col2, #T_3b086_row6_col3, #T_3b086_row6_col4, #T_3b086_row7_col0, #T_3b086_row7_col1, #T_3b086_row7_col2, #T_3b086_row7_col3, #T_3b086_row7_col4, #T_3b086_row8_col0, #T_3b086_row8_col1, #T_3b086_row8_col2, #T_3b086_row8_col3, #T_3b086_row8_col4, #T_3b086_row9_col0, #T_3b086_row9_col1, #T_3b086_row9_col2, #T_3b086_row9_col3, #T_3b086_row9_col4, #T_3b086_row10_col0, #T_3b086_row10_col1, #T_3b086_row10_col2, #T_3b086_row10_col3, #T_3b086_row10_col4, #T_3b086_row11_col0, #T_3b086_row11_col1, #T_3b086_row11_col2, #T_3b086_row11_col3, #T_3b086_row11_col4, #T_3b086_row12_col0, #T_3b086_row12_col1, #T_3b086_row12_col2, #T_3b086_row12_col3, #T_3b086_row12_col4, #T_3b086_row13_col0, #T_3b086_row13_col1, #T_3b086_row13_col2, #T_3b086_row13_col3, #T_3b086_row13_col4, #T_3b086_row14_col0, #T_3b086_row14_col1, #T_3b086_row14_col2, #T_3b086_row14_col3, #T_3b086_row14_col4, #T_3b086_row15_col0, #T_3b086_row15_col1, #T_3b086_row15_col2, #T_3b086_row15_col3, #T_3b086_row15_col4, #T_3b086_row16_col0, #T_3b086_row16_col1, #T_3b086_row16_col2, #T_3b086_row16_col3, #T_3b086_row16_col4, #T_3b086_row17_col0, #T_3b086_row17_col1, #T_3b086_row17_col2, #T_3b086_row17_col3, #T_3b086_row17_col4, #T_3b086_row18_col0, #T_3b086_row18_col1, #T_3b086_row18_col2, #T_3b086_row18_col3, #T_3b086_row18_col4 {\n",
       "  text-align: center;\n",
       "}\n",
       "</style>\n",
       "<table id=\"T_3b086\">\n",
       "  <thead>\n",
       "    <tr>\n",
       "      <th class=\"blank level0\" >&nbsp;</th>\n",
       "      <th id=\"T_3b086_level0_col0\" class=\"col_heading level0 col0\" >('Rouge', 'Rouge1 Unigrammes')</th>\n",
       "      <th id=\"T_3b086_level0_col1\" class=\"col_heading level0 col1\" >('Rouge', 'Rouge2 Bigrammes')</th>\n",
       "      <th id=\"T_3b086_level0_col2\" class=\"col_heading level0 col2\" >('BERT Score', 'Precision')</th>\n",
       "      <th id=\"T_3b086_level0_col3\" class=\"col_heading level0 col3\" >('BERT Score', 'Recall')</th>\n",
       "      <th id=\"T_3b086_level0_col4\" class=\"col_heading level0 col4\" >('BERT Score', 'F1')</th>\n",
       "    </tr>\n",
       "  </thead>\n",
       "  <tbody>\n",
       "    <tr>\n",
       "      <th id=\"T_3b086_level0_row0\" class=\"row_heading level0 row0\" >Test 1</th>\n",
       "      <td id=\"T_3b086_row0_col0\" class=\"data row0 col0\" >0.182500</td>\n",
       "      <td id=\"T_3b086_row0_col1\" class=\"data row0 col1\" >0.020600</td>\n",
       "      <td id=\"T_3b086_row0_col2\" class=\"data row0 col2\" >0.578900</td>\n",
       "      <td id=\"T_3b086_row0_col3\" class=\"data row0 col3\" >0.511000</td>\n",
       "      <td id=\"T_3b086_row0_col4\" class=\"data row0 col4\" >0.542800</td>\n",
       "    </tr>\n",
       "    <tr>\n",
       "      <th id=\"T_3b086_level0_row1\" class=\"row_heading level0 row1\" >Test 2</th>\n",
       "      <td id=\"T_3b086_row1_col0\" class=\"data row1 col0\" >0.079300</td>\n",
       "      <td id=\"T_3b086_row1_col1\" class=\"data row1 col1\" >0.007100</td>\n",
       "      <td id=\"T_3b086_row1_col2\" class=\"data row1 col2\" >0.549000</td>\n",
       "      <td id=\"T_3b086_row1_col3\" class=\"data row1 col3\" >0.471300</td>\n",
       "      <td id=\"T_3b086_row1_col4\" class=\"data row1 col4\" >0.507200</td>\n",
       "    </tr>\n",
       "    <tr>\n",
       "      <th id=\"T_3b086_level0_row2\" class=\"row_heading level0 row2\" >Test 3</th>\n",
       "      <td id=\"T_3b086_row2_col0\" class=\"data row2 col0\" >0.055100</td>\n",
       "      <td id=\"T_3b086_row2_col1\" class=\"data row2 col1\" >0.002800</td>\n",
       "      <td id=\"T_3b086_row2_col2\" class=\"data row2 col2\" >0.589100</td>\n",
       "      <td id=\"T_3b086_row2_col3\" class=\"data row2 col3\" >0.481700</td>\n",
       "      <td id=\"T_3b086_row2_col4\" class=\"data row2 col4\" >0.530000</td>\n",
       "    </tr>\n",
       "    <tr>\n",
       "      <th id=\"T_3b086_level0_row3\" class=\"row_heading level0 row3\" >Test 4</th>\n",
       "      <td id=\"T_3b086_row3_col0\" class=\"data row3 col0\" >0.132600</td>\n",
       "      <td id=\"T_3b086_row3_col1\" class=\"data row3 col1\" >0.027500</td>\n",
       "      <td id=\"T_3b086_row3_col2\" class=\"data row3 col2\" >0.588900</td>\n",
       "      <td id=\"T_3b086_row3_col3\" class=\"data row3 col3\" >0.496700</td>\n",
       "      <td id=\"T_3b086_row3_col4\" class=\"data row3 col4\" >0.538900</td>\n",
       "    </tr>\n",
       "    <tr>\n",
       "      <th id=\"T_3b086_level0_row4\" class=\"row_heading level0 row4\" >Test 5</th>\n",
       "      <td id=\"T_3b086_row4_col0\" class=\"data row4 col0\" >0.082000</td>\n",
       "      <td id=\"T_3b086_row4_col1\" class=\"data row4 col1\" >0.000000</td>\n",
       "      <td id=\"T_3b086_row4_col2\" class=\"data row4 col2\" >0.605600</td>\n",
       "      <td id=\"T_3b086_row4_col3\" class=\"data row4 col3\" >0.493800</td>\n",
       "      <td id=\"T_3b086_row4_col4\" class=\"data row4 col4\" >0.544000</td>\n",
       "    </tr>\n",
       "    <tr>\n",
       "      <th id=\"T_3b086_level0_row5\" class=\"row_heading level0 row5\" >Test 6</th>\n",
       "      <td id=\"T_3b086_row5_col0\" class=\"data row5 col0\" >0.112200</td>\n",
       "      <td id=\"T_3b086_row5_col1\" class=\"data row5 col1\" >0.013000</td>\n",
       "      <td id=\"T_3b086_row5_col2\" class=\"data row5 col2\" >0.584900</td>\n",
       "      <td id=\"T_3b086_row5_col3\" class=\"data row5 col3\" >0.491900</td>\n",
       "      <td id=\"T_3b086_row5_col4\" class=\"data row5 col4\" >0.534400</td>\n",
       "    </tr>\n",
       "    <tr>\n",
       "      <th id=\"T_3b086_level0_row6\" class=\"row_heading level0 row6\" >Test 7</th>\n",
       "      <td id=\"T_3b086_row6_col0\" class=\"data row6 col0\" >0.142700</td>\n",
       "      <td id=\"T_3b086_row6_col1\" class=\"data row6 col1\" >0.015900</td>\n",
       "      <td id=\"T_3b086_row6_col2\" class=\"data row6 col2\" >0.623500</td>\n",
       "      <td id=\"T_3b086_row6_col3\" class=\"data row6 col3\" >0.527800</td>\n",
       "      <td id=\"T_3b086_row6_col4\" class=\"data row6 col4\" >0.571700</td>\n",
       "    </tr>\n",
       "    <tr>\n",
       "      <th id=\"T_3b086_level0_row7\" class=\"row_heading level0 row7\" >Test 8</th>\n",
       "      <td id=\"T_3b086_row7_col0\" class=\"data row7 col0\" >0.172100</td>\n",
       "      <td id=\"T_3b086_row7_col1\" class=\"data row7 col1\" >0.020900</td>\n",
       "      <td id=\"T_3b086_row7_col2\" class=\"data row7 col2\" >0.580500</td>\n",
       "      <td id=\"T_3b086_row7_col3\" class=\"data row7 col3\" >0.506800</td>\n",
       "      <td id=\"T_3b086_row7_col4\" class=\"data row7 col4\" >0.541100</td>\n",
       "    </tr>\n",
       "    <tr>\n",
       "      <th id=\"T_3b086_level0_row8\" class=\"row_heading level0 row8\" >Test 9</th>\n",
       "      <td id=\"T_3b086_row8_col0\" class=\"data row8 col0\" >0.174800</td>\n",
       "      <td id=\"T_3b086_row8_col1\" class=\"data row8 col1\" >0.020600</td>\n",
       "      <td id=\"T_3b086_row8_col2\" class=\"data row8 col2\" >0.570400</td>\n",
       "      <td id=\"T_3b086_row8_col3\" class=\"data row8 col3\" >0.505200</td>\n",
       "      <td id=\"T_3b086_row8_col4\" class=\"data row8 col4\" >0.535800</td>\n",
       "    </tr>\n",
       "    <tr>\n",
       "      <th id=\"T_3b086_level0_row9\" class=\"row_heading level0 row9\" >Test 10</th>\n",
       "      <td id=\"T_3b086_row9_col0\" class=\"data row9 col0\" >0.089300</td>\n",
       "      <td id=\"T_3b086_row9_col1\" class=\"data row9 col1\" >0.007100</td>\n",
       "      <td id=\"T_3b086_row9_col2\" class=\"data row9 col2\" >0.542800</td>\n",
       "      <td id=\"T_3b086_row9_col3\" class=\"data row9 col3\" >0.471600</td>\n",
       "      <td id=\"T_3b086_row9_col4\" class=\"data row9 col4\" >0.504700</td>\n",
       "    </tr>\n",
       "    <tr>\n",
       "      <th id=\"T_3b086_level0_row10\" class=\"row_heading level0 row10\" >Test 11</th>\n",
       "      <td id=\"T_3b086_row10_col0\" class=\"data row10 col0\" >0.073200</td>\n",
       "      <td id=\"T_3b086_row10_col1\" class=\"data row10 col1\" >0.013600</td>\n",
       "      <td id=\"T_3b086_row10_col2\" class=\"data row10 col2\" >0.573400</td>\n",
       "      <td id=\"T_3b086_row10_col3\" class=\"data row10 col3\" >0.493400</td>\n",
       "      <td id=\"T_3b086_row10_col4\" class=\"data row10 col4\" >0.530400</td>\n",
       "    </tr>\n",
       "    <tr>\n",
       "      <th id=\"T_3b086_level0_row11\" class=\"row_heading level0 row11\" >Test 12</th>\n",
       "      <td id=\"T_3b086_row11_col0\" class=\"data row11 col0\" >0.171500</td>\n",
       "      <td id=\"T_3b086_row11_col1\" class=\"data row11 col1\" >0.033500</td>\n",
       "      <td id=\"T_3b086_row11_col2\" class=\"data row11 col2\" >0.629900</td>\n",
       "      <td id=\"T_3b086_row11_col3\" class=\"data row11 col3\" >0.544200</td>\n",
       "      <td id=\"T_3b086_row11_col4\" class=\"data row11 col4\" >0.584000</td>\n",
       "    </tr>\n",
       "    <tr>\n",
       "      <th id=\"T_3b086_level0_row12\" class=\"row_heading level0 row12\" >Test 13</th>\n",
       "      <td id=\"T_3b086_row12_col0\" class=\"data row12 col0\" >0.097000</td>\n",
       "      <td id=\"T_3b086_row12_col1\" class=\"data row12 col1\" >0.003100</td>\n",
       "      <td id=\"T_3b086_row12_col2\" class=\"data row12 col2\" >0.613800</td>\n",
       "      <td id=\"T_3b086_row12_col3\" class=\"data row12 col3\" >0.501500</td>\n",
       "      <td id=\"T_3b086_row12_col4\" class=\"data row12 col4\" >0.552000</td>\n",
       "    </tr>\n",
       "    <tr>\n",
       "      <th id=\"T_3b086_level0_row13\" class=\"row_heading level0 row13\" >Test 14</th>\n",
       "      <td id=\"T_3b086_row13_col0\" class=\"data row13 col0\" >0.098000</td>\n",
       "      <td id=\"T_3b086_row13_col1\" class=\"data row13 col1\" >0.010900</td>\n",
       "      <td id=\"T_3b086_row13_col2\" class=\"data row13 col2\" >0.588300</td>\n",
       "      <td id=\"T_3b086_row13_col3\" class=\"data row13 col3\" >0.489300</td>\n",
       "      <td id=\"T_3b086_row13_col4\" class=\"data row13 col4\" >0.534300</td>\n",
       "    </tr>\n",
       "    <tr>\n",
       "      <th id=\"T_3b086_level0_row14\" class=\"row_heading level0 row14\" >Test 15</th>\n",
       "      <td id=\"T_3b086_row14_col0\" class=\"data row14 col0\" >0.181600</td>\n",
       "      <td id=\"T_3b086_row14_col1\" class=\"data row14 col1\" >0.022000</td>\n",
       "      <td id=\"T_3b086_row14_col2\" class=\"data row14 col2\" >0.569500</td>\n",
       "      <td id=\"T_3b086_row14_col3\" class=\"data row14 col3\" >0.514600</td>\n",
       "      <td id=\"T_3b086_row14_col4\" class=\"data row14 col4\" >0.540700</td>\n",
       "    </tr>\n",
       "    <tr>\n",
       "      <th id=\"T_3b086_level0_row15\" class=\"row_heading level0 row15\" >Test 16</th>\n",
       "      <td id=\"T_3b086_row15_col0\" class=\"data row15 col0\" >0.191300</td>\n",
       "      <td id=\"T_3b086_row15_col1\" class=\"data row15 col1\" >0.040700</td>\n",
       "      <td id=\"T_3b086_row15_col2\" class=\"data row15 col2\" >0.617500</td>\n",
       "      <td id=\"T_3b086_row15_col3\" class=\"data row15 col3\" >0.528000</td>\n",
       "      <td id=\"T_3b086_row15_col4\" class=\"data row15 col4\" >0.569200</td>\n",
       "    </tr>\n",
       "    <tr>\n",
       "      <th id=\"T_3b086_level0_row16\" class=\"row_heading level0 row16\" >Test 17</th>\n",
       "      <td id=\"T_3b086_row16_col0\" class=\"data row16 col0\" >0.273100</td>\n",
       "      <td id=\"T_3b086_row16_col1\" class=\"data row16 col1\" >0.064000</td>\n",
       "      <td id=\"T_3b086_row16_col2\" class=\"data row16 col2\" >0.555900</td>\n",
       "      <td id=\"T_3b086_row16_col3\" class=\"data row16 col3\" >0.522300</td>\n",
       "      <td id=\"T_3b086_row16_col4\" class=\"data row16 col4\" >0.538600</td>\n",
       "    </tr>\n",
       "    <tr>\n",
       "      <th id=\"T_3b086_level0_row17\" class=\"row_heading level0 row17\" >Test 18</th>\n",
       "      <td id=\"T_3b086_row17_col0\" class=\"data row17 col0\" >0.082200</td>\n",
       "      <td id=\"T_3b086_row17_col1\" class=\"data row17 col1\" >0.013700</td>\n",
       "      <td id=\"T_3b086_row17_col2\" class=\"data row17 col2\" >0.588500</td>\n",
       "      <td id=\"T_3b086_row17_col3\" class=\"data row17 col3\" >0.512600</td>\n",
       "      <td id=\"T_3b086_row17_col4\" class=\"data row17 col4\" >0.547900</td>\n",
       "    </tr>\n",
       "    <tr>\n",
       "      <th id=\"T_3b086_level0_row18\" class=\"row_heading level0 row18\" >Test 19</th>\n",
       "      <td id=\"T_3b086_row18_col0\" class=\"data row18 col0\" >0.202200</td>\n",
       "      <td id=\"T_3b086_row18_col1\" class=\"data row18 col1\" >0.031200</td>\n",
       "      <td id=\"T_3b086_row18_col2\" class=\"data row18 col2\" >0.622900</td>\n",
       "      <td id=\"T_3b086_row18_col3\" class=\"data row18 col3\" >0.516100</td>\n",
       "      <td id=\"T_3b086_row18_col4\" class=\"data row18 col4\" >0.564500</td>\n",
       "    </tr>\n",
       "  </tbody>\n",
       "</table>\n"
      ],
      "text/plain": [
       "<pandas.io.formats.style.Styler at 0x20ac07a2e90>"
      ]
     },
     "execution_count": 42,
     "metadata": {},
     "output_type": "execute_result"
    }
   ],
   "source": [
    "df_prompt = create_df(results_prompt)\n",
    "print_results(df_prompt)"
   ]
  },
  {
   "cell_type": "code",
   "execution_count": 43,
   "id": "5a8a327d",
   "metadata": {},
   "outputs": [
    {
     "data": {
      "text/html": [
       "<style type=\"text/css\">\n",
       "#T_bdbca_row0_col0, #T_bdbca_row0_col1, #T_bdbca_row0_col2, #T_bdbca_row0_col3, #T_bdbca_row0_col4, #T_bdbca_row1_col0, #T_bdbca_row1_col1, #T_bdbca_row1_col2, #T_bdbca_row1_col3, #T_bdbca_row1_col4, #T_bdbca_row2_col0, #T_bdbca_row2_col1, #T_bdbca_row2_col2, #T_bdbca_row2_col3, #T_bdbca_row2_col4, #T_bdbca_row3_col0, #T_bdbca_row3_col1, #T_bdbca_row3_col2, #T_bdbca_row3_col3, #T_bdbca_row3_col4, #T_bdbca_row4_col0, #T_bdbca_row4_col1, #T_bdbca_row4_col2, #T_bdbca_row4_col3, #T_bdbca_row4_col4, #T_bdbca_row5_col0, #T_bdbca_row5_col1, #T_bdbca_row5_col2, #T_bdbca_row5_col3, #T_bdbca_row5_col4, #T_bdbca_row6_col0, #T_bdbca_row6_col1, #T_bdbca_row6_col2, #T_bdbca_row6_col3, #T_bdbca_row6_col4, #T_bdbca_row7_col0, #T_bdbca_row7_col1, #T_bdbca_row7_col2, #T_bdbca_row7_col3, #T_bdbca_row7_col4, #T_bdbca_row8_col0, #T_bdbca_row8_col1, #T_bdbca_row8_col2, #T_bdbca_row8_col3, #T_bdbca_row8_col4, #T_bdbca_row9_col0, #T_bdbca_row9_col1, #T_bdbca_row9_col2, #T_bdbca_row9_col3, #T_bdbca_row9_col4, #T_bdbca_row10_col0, #T_bdbca_row10_col1, #T_bdbca_row10_col2, #T_bdbca_row10_col3, #T_bdbca_row10_col4, #T_bdbca_row11_col0, #T_bdbca_row11_col1, #T_bdbca_row11_col2, #T_bdbca_row11_col3, #T_bdbca_row11_col4, #T_bdbca_row12_col0, #T_bdbca_row12_col1, #T_bdbca_row12_col2, #T_bdbca_row12_col3, #T_bdbca_row12_col4, #T_bdbca_row13_col0, #T_bdbca_row13_col1, #T_bdbca_row13_col2, #T_bdbca_row13_col3, #T_bdbca_row13_col4, #T_bdbca_row14_col0, #T_bdbca_row14_col1, #T_bdbca_row14_col2, #T_bdbca_row14_col3, #T_bdbca_row14_col4, #T_bdbca_row15_col0, #T_bdbca_row15_col1, #T_bdbca_row15_col2, #T_bdbca_row15_col3, #T_bdbca_row15_col4, #T_bdbca_row16_col0, #T_bdbca_row16_col1, #T_bdbca_row16_col2, #T_bdbca_row16_col3, #T_bdbca_row16_col4 {\n",
       "  text-align: center;\n",
       "}\n",
       "</style>\n",
       "<table id=\"T_bdbca\">\n",
       "  <thead>\n",
       "    <tr>\n",
       "      <th class=\"blank level0\" >&nbsp;</th>\n",
       "      <th id=\"T_bdbca_level0_col0\" class=\"col_heading level0 col0\" >('Rouge', 'Rouge1 Unigrammes')</th>\n",
       "      <th id=\"T_bdbca_level0_col1\" class=\"col_heading level0 col1\" >('Rouge', 'Rouge2 Bigrammes')</th>\n",
       "      <th id=\"T_bdbca_level0_col2\" class=\"col_heading level0 col2\" >('BERT Score', 'Precision')</th>\n",
       "      <th id=\"T_bdbca_level0_col3\" class=\"col_heading level0 col3\" >('BERT Score', 'Recall')</th>\n",
       "      <th id=\"T_bdbca_level0_col4\" class=\"col_heading level0 col4\" >('BERT Score', 'F1')</th>\n",
       "    </tr>\n",
       "  </thead>\n",
       "  <tbody>\n",
       "    <tr>\n",
       "      <th id=\"T_bdbca_level0_row0\" class=\"row_heading level0 row0\" >Test 1</th>\n",
       "      <td id=\"T_bdbca_row0_col0\" class=\"data row0 col0\" >0.319000</td>\n",
       "      <td id=\"T_bdbca_row0_col1\" class=\"data row0 col1\" >0.061100</td>\n",
       "      <td id=\"T_bdbca_row0_col2\" class=\"data row0 col2\" >0.624100</td>\n",
       "      <td id=\"T_bdbca_row0_col3\" class=\"data row0 col3\" >0.507000</td>\n",
       "      <td id=\"T_bdbca_row0_col4\" class=\"data row0 col4\" >0.559500</td>\n",
       "    </tr>\n",
       "    <tr>\n",
       "      <th id=\"T_bdbca_level0_row1\" class=\"row_heading level0 row1\" >Test 2</th>\n",
       "      <td id=\"T_bdbca_row1_col0\" class=\"data row1 col0\" >0.098900</td>\n",
       "      <td id=\"T_bdbca_row1_col1\" class=\"data row1 col1\" >0.005500</td>\n",
       "      <td id=\"T_bdbca_row1_col2\" class=\"data row1 col2\" >0.596000</td>\n",
       "      <td id=\"T_bdbca_row1_col3\" class=\"data row1 col3\" >0.481200</td>\n",
       "      <td id=\"T_bdbca_row1_col4\" class=\"data row1 col4\" >0.532500</td>\n",
       "    </tr>\n",
       "    <tr>\n",
       "      <th id=\"T_bdbca_level0_row2\" class=\"row_heading level0 row2\" >Test 3</th>\n",
       "      <td id=\"T_bdbca_row2_col0\" class=\"data row2 col0\" >0.161900</td>\n",
       "      <td id=\"T_bdbca_row2_col1\" class=\"data row2 col1\" >0.009600</td>\n",
       "      <td id=\"T_bdbca_row2_col2\" class=\"data row2 col2\" >0.608300</td>\n",
       "      <td id=\"T_bdbca_row2_col3\" class=\"data row2 col3\" >0.467200</td>\n",
       "      <td id=\"T_bdbca_row2_col4\" class=\"data row2 col4\" >0.528500</td>\n",
       "    </tr>\n",
       "    <tr>\n",
       "      <th id=\"T_bdbca_level0_row3\" class=\"row_heading level0 row3\" >Test 4</th>\n",
       "      <td id=\"T_bdbca_row3_col0\" class=\"data row3 col0\" >0.197000</td>\n",
       "      <td id=\"T_bdbca_row3_col1\" class=\"data row3 col1\" >0.042800</td>\n",
       "      <td id=\"T_bdbca_row3_col2\" class=\"data row3 col2\" >0.625400</td>\n",
       "      <td id=\"T_bdbca_row3_col3\" class=\"data row3 col3\" >0.513100</td>\n",
       "      <td id=\"T_bdbca_row3_col4\" class=\"data row3 col4\" >0.563700</td>\n",
       "    </tr>\n",
       "    <tr>\n",
       "      <th id=\"T_bdbca_level0_row4\" class=\"row_heading level0 row4\" >Test 5</th>\n",
       "      <td id=\"T_bdbca_row4_col0\" class=\"data row4 col0\" >0.285700</td>\n",
       "      <td id=\"T_bdbca_row4_col1\" class=\"data row4 col1\" >0.011600</td>\n",
       "      <td id=\"T_bdbca_row4_col2\" class=\"data row4 col2\" >0.640200</td>\n",
       "      <td id=\"T_bdbca_row4_col3\" class=\"data row4 col3\" >0.487500</td>\n",
       "      <td id=\"T_bdbca_row4_col4\" class=\"data row4 col4\" >0.553500</td>\n",
       "    </tr>\n",
       "    <tr>\n",
       "      <th id=\"T_bdbca_level0_row5\" class=\"row_heading level0 row5\" >Test 6</th>\n",
       "      <td id=\"T_bdbca_row5_col0\" class=\"data row5 col0\" >0.420600</td>\n",
       "      <td id=\"T_bdbca_row5_col1\" class=\"data row5 col1\" >0.152800</td>\n",
       "      <td id=\"T_bdbca_row5_col2\" class=\"data row5 col2\" >0.609700</td>\n",
       "      <td id=\"T_bdbca_row5_col3\" class=\"data row5 col3\" >0.523300</td>\n",
       "      <td id=\"T_bdbca_row5_col4\" class=\"data row5 col4\" >0.563200</td>\n",
       "    </tr>\n",
       "    <tr>\n",
       "      <th id=\"T_bdbca_level0_row6\" class=\"row_heading level0 row6\" >Test 7</th>\n",
       "      <td id=\"T_bdbca_row6_col0\" class=\"data row6 col0\" >0.374400</td>\n",
       "      <td id=\"T_bdbca_row6_col1\" class=\"data row6 col1\" >0.084100</td>\n",
       "      <td id=\"T_bdbca_row6_col2\" class=\"data row6 col2\" >0.582100</td>\n",
       "      <td id=\"T_bdbca_row6_col3\" class=\"data row6 col3\" >0.519200</td>\n",
       "      <td id=\"T_bdbca_row6_col4\" class=\"data row6 col4\" >0.548900</td>\n",
       "    </tr>\n",
       "    <tr>\n",
       "      <th id=\"T_bdbca_level0_row7\" class=\"row_heading level0 row7\" >Test 8</th>\n",
       "      <td id=\"T_bdbca_row7_col0\" class=\"data row7 col0\" >0.129000</td>\n",
       "      <td id=\"T_bdbca_row7_col1\" class=\"data row7 col1\" >0.005400</td>\n",
       "      <td id=\"T_bdbca_row7_col2\" class=\"data row7 col2\" >0.599000</td>\n",
       "      <td id=\"T_bdbca_row7_col3\" class=\"data row7 col3\" >0.487400</td>\n",
       "      <td id=\"T_bdbca_row7_col4\" class=\"data row7 col4\" >0.537500</td>\n",
       "    </tr>\n",
       "    <tr>\n",
       "      <th id=\"T_bdbca_level0_row8\" class=\"row_heading level0 row8\" >Test 9</th>\n",
       "      <td id=\"T_bdbca_row8_col0\" class=\"data row8 col0\" >0.171400</td>\n",
       "      <td id=\"T_bdbca_row8_col1\" class=\"data row8 col1\" >0.009600</td>\n",
       "      <td id=\"T_bdbca_row8_col2\" class=\"data row8 col2\" >0.608500</td>\n",
       "      <td id=\"T_bdbca_row8_col3\" class=\"data row8 col3\" >0.468200</td>\n",
       "      <td id=\"T_bdbca_row8_col4\" class=\"data row8 col4\" >0.529200</td>\n",
       "    </tr>\n",
       "    <tr>\n",
       "      <th id=\"T_bdbca_level0_row9\" class=\"row_heading level0 row9\" >Test 10</th>\n",
       "      <td id=\"T_bdbca_row9_col0\" class=\"data row9 col0\" >0.154900</td>\n",
       "      <td id=\"T_bdbca_row9_col1\" class=\"data row9 col1\" >0.023600</td>\n",
       "      <td id=\"T_bdbca_row9_col2\" class=\"data row9 col2\" >0.632300</td>\n",
       "      <td id=\"T_bdbca_row9_col3\" class=\"data row9 col3\" >0.509800</td>\n",
       "      <td id=\"T_bdbca_row9_col4\" class=\"data row9 col4\" >0.564500</td>\n",
       "    </tr>\n",
       "    <tr>\n",
       "      <th id=\"T_bdbca_level0_row10\" class=\"row_heading level0 row10\" >Test 11</th>\n",
       "      <td id=\"T_bdbca_row10_col0\" class=\"data row10 col0\" >0.275900</td>\n",
       "      <td id=\"T_bdbca_row10_col1\" class=\"data row10 col1\" >0.011600</td>\n",
       "      <td id=\"T_bdbca_row10_col2\" class=\"data row10 col2\" >0.641900</td>\n",
       "      <td id=\"T_bdbca_row10_col3\" class=\"data row10 col3\" >0.484600</td>\n",
       "      <td id=\"T_bdbca_row10_col4\" class=\"data row10 col4\" >0.552300</td>\n",
       "    </tr>\n",
       "    <tr>\n",
       "      <th id=\"T_bdbca_level0_row11\" class=\"row_heading level0 row11\" >Test 12</th>\n",
       "      <td id=\"T_bdbca_row11_col0\" class=\"data row11 col0\" >0.226300</td>\n",
       "      <td id=\"T_bdbca_row11_col1\" class=\"data row11 col1\" >0.036500</td>\n",
       "      <td id=\"T_bdbca_row11_col2\" class=\"data row11 col2\" >0.614400</td>\n",
       "      <td id=\"T_bdbca_row11_col3\" class=\"data row11 col3\" >0.528100</td>\n",
       "      <td id=\"T_bdbca_row11_col4\" class=\"data row11 col4\" >0.568000</td>\n",
       "    </tr>\n",
       "    <tr>\n",
       "      <th id=\"T_bdbca_level0_row12\" class=\"row_heading level0 row12\" >Test 13</th>\n",
       "      <td id=\"T_bdbca_row12_col0\" class=\"data row12 col0\" >0.282700</td>\n",
       "      <td id=\"T_bdbca_row12_col1\" class=\"data row12 col1\" >0.029700</td>\n",
       "      <td id=\"T_bdbca_row12_col2\" class=\"data row12 col2\" >0.644300</td>\n",
       "      <td id=\"T_bdbca_row12_col3\" class=\"data row12 col3\" >0.545700</td>\n",
       "      <td id=\"T_bdbca_row12_col4\" class=\"data row12 col4\" >0.590900</td>\n",
       "    </tr>\n",
       "    <tr>\n",
       "      <th id=\"T_bdbca_level0_row13\" class=\"row_heading level0 row13\" >Test 14</th>\n",
       "      <td id=\"T_bdbca_row13_col0\" class=\"data row13 col0\" >0.315200</td>\n",
       "      <td id=\"T_bdbca_row13_col1\" class=\"data row13 col1\" >0.065600</td>\n",
       "      <td id=\"T_bdbca_row13_col2\" class=\"data row13 col2\" >0.637300</td>\n",
       "      <td id=\"T_bdbca_row13_col3\" class=\"data row13 col3\" >0.523700</td>\n",
       "      <td id=\"T_bdbca_row13_col4\" class=\"data row13 col4\" >0.575000</td>\n",
       "    </tr>\n",
       "    <tr>\n",
       "      <th id=\"T_bdbca_level0_row14\" class=\"row_heading level0 row14\" >Test 15</th>\n",
       "      <td id=\"T_bdbca_row14_col0\" class=\"data row14 col0\" >0.406700</td>\n",
       "      <td id=\"T_bdbca_row14_col1\" class=\"data row14 col1\" >0.113500</td>\n",
       "      <td id=\"T_bdbca_row14_col2\" class=\"data row14 col2\" >0.573500</td>\n",
       "      <td id=\"T_bdbca_row14_col3\" class=\"data row14 col3\" >0.532400</td>\n",
       "      <td id=\"T_bdbca_row14_col4\" class=\"data row14 col4\" >0.552200</td>\n",
       "    </tr>\n",
       "    <tr>\n",
       "      <th id=\"T_bdbca_level0_row15\" class=\"row_heading level0 row15\" >Test 16</th>\n",
       "      <td id=\"T_bdbca_row15_col0\" class=\"data row15 col0\" >0.292100</td>\n",
       "      <td id=\"T_bdbca_row15_col1\" class=\"data row15 col1\" >0.062100</td>\n",
       "      <td id=\"T_bdbca_row15_col2\" class=\"data row15 col2\" >0.607100</td>\n",
       "      <td id=\"T_bdbca_row15_col3\" class=\"data row15 col3\" >0.531800</td>\n",
       "      <td id=\"T_bdbca_row15_col4\" class=\"data row15 col4\" >0.567000</td>\n",
       "    </tr>\n",
       "    <tr>\n",
       "      <th id=\"T_bdbca_level0_row16\" class=\"row_heading level0 row16\" >Test 17</th>\n",
       "      <td id=\"T_bdbca_row16_col0\" class=\"data row16 col0\" >0.228400</td>\n",
       "      <td id=\"T_bdbca_row16_col1\" class=\"data row16 col1\" >0.035700</td>\n",
       "      <td id=\"T_bdbca_row16_col2\" class=\"data row16 col2\" >0.640300</td>\n",
       "      <td id=\"T_bdbca_row16_col3\" class=\"data row16 col3\" >0.521900</td>\n",
       "      <td id=\"T_bdbca_row16_col4\" class=\"data row16 col4\" >0.575100</td>\n",
       "    </tr>\n",
       "  </tbody>\n",
       "</table>\n"
      ],
      "text/plain": [
       "<pandas.io.formats.style.Styler at 0x20a99fb7c50>"
      ]
     },
     "execution_count": 43,
     "metadata": {},
     "output_type": "execute_result"
    }
   ],
   "source": [
    "df_reference = create_df(results_reference)\n",
    "print_results(df_reference)"
   ]
  },
  {
   "cell_type": "code",
   "execution_count": 60,
   "id": "cf3a9838",
   "metadata": {},
   "outputs": [],
   "source": [
    "import matplotlib.pyplot as plt\n",
    "\n",
    "def plot_figure(df):\n",
    "    plt.figure(figsize=(14,6))\n",
    "\n",
    "    x = df.index.astype(str)\n",
    "\n",
    "    for col in df.columns:\n",
    "        col_str = \", \".join(col)\n",
    "        plt.plot(x, df[col], marker=\"o\", label=col_str)\n",
    "\n",
    "    plt.ylim(0, 1) \n",
    "    plt.xlabel(\"Tests\")\n",
    "    plt.ylabel(\"Scores\")\n",
    "    plt.title(\"Évolution des métriques par test\")\n",
    "    plt.legend()\n",
    "    plt.grid(True)\n",
    "    plt.show()"
   ]
  },
  {
   "cell_type": "code",
   "execution_count": 61,
   "id": "040703ea",
   "metadata": {},
   "outputs": [
    {
     "data": {
      "image/png": "[encoded data removed]",
      "text/plain": [
       "<Figure size 1400x600 with 1 Axes>"
      ]
     },
     "metadata": {},
     "output_type": "display_data"
    }
   ],
   "source": [
    "plot_figure(df_prompt)"
   ]
  },
  {
   "cell_type": "code",
   "execution_count": 62,
   "id": "d34ee2b6",
   "metadata": {},
   "outputs": [
    {
     "data": {
      "image/png": "[encoded data removed]",
      "text/plain": [
       "<Figure size 1400x600 with 1 Axes>"
      ]
     },
     "metadata": {},
     "output_type": "display_data"
    }
   ],
   "source": [
    "plot_figure(df_reference)"
   ]
  }
 ],
 "metadata": {
  "kernelspec": {
   "display_name": ".venv",
   "language": "python",
   "name": "python3"
  },
  "language_info": {
   "codemirror_mode": {
    "name": "ipython",
    "version": 3
   },
   "file_extension": ".py",
   "mimetype": "text/x-python",
   "name": "python",
   "nbconvert_exporter": "python",
   "pygments_lexer": "ipython3",
   "version": "3.13.3"
  }
 },
 "nbformat": 4,
 "nbformat_minor": 5
}
