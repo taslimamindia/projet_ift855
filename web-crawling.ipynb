{
 "cells": [
  {
   "cell_type": "code",
   "execution_count": 1,
   "id": "b5c24a07",
   "metadata": {},
   "outputs": [],
   "source": [
    "from outils.webcrawling import crawl"
   ]
  },
  {
   "cell_type": "code",
   "execution_count": 2,
   "id": "ca031b34",
   "metadata": {},
   "outputs": [],
   "source": [
    "data = [(\"https://gouvernement.gov.gn/\", \"gov.gn\", 4)]\n",
    "for i in range(1, 50):\n",
    "    data.append((\"https://gouvernement.gov.gn/toutes-les-actualites/page/{}/\".format(i), \"gov.gn\", 2))"
   ]
  },
  {
   "cell_type": "code",
   "execution_count": null,
   "id": "c2c5c43b",
   "metadata": {},
   "outputs": [],
   "source": [
    "visited, texts = crawl(data)"
   ]
  },
  {
   "cell_type": "code",
   "execution_count": null,
   "id": "a62122c5",
   "metadata": {},
   "outputs": [],
   "source": [
    "from outils.filesmanager import load_texts_from_json, save_texts_to_json"
   ]
  },
  {
   "cell_type": "code",
   "execution_count": 6,
   "id": "0b0d2f24",
   "metadata": {},
   "outputs": [],
   "source": [
    "texts = load_texts_from_json('./datasets/crawled_data.json')"
   ]
  },
  {
   "cell_type": "code",
   "execution_count": null,
   "id": "7545ed56",
   "metadata": {},
   "outputs": [],
   "source": [
    "from outils.transformers import textTosentences\n",
    "texts_transformed = textTosentences(texts)"
   ]
  },
  {
   "cell_type": "code",
   "execution_count": 9,
   "id": "f957c66a",
   "metadata": {},
   "outputs": [],
   "source": [
    "texts_transformed =  { k: v for k, v in texts_transformed.items() if '.pdf' not in k }"
   ]
  },
  {
   "cell_type": "code",
   "execution_count": 11,
   "id": "a91cae5a",
   "metadata": {},
   "outputs": [],
   "source": [
    "save_texts_to_json(texts_transformed, filename=\"./datasets/crawled_data_sentences.json\")"
   ]
  }
 ],
 "metadata": {
  "kernelspec": {
   "display_name": ".venv",
   "language": "python",
   "name": "python3"
  },
  "language_info": {
   "codemirror_mode": {
    "name": "ipython",
    "version": 3
   },
   "file_extension": ".py",
   "mimetype": "text/x-python",
   "name": "python",
   "nbconvert_exporter": "python",
   "pygments_lexer": "ipython3",
   "version": "3.13.3"
  }
 },
 "nbformat": 4,
 "nbformat_minor": 5
}
